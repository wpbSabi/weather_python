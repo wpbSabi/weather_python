{
 "cells": [
  {
   "cell_type": "markdown",
   "id": "59431e41",
   "metadata": {},
   "source": [
    "# Compare Temperature Across Locations\n",
    "* TMAX: The maximum temperature on a day\n",
    "* TMIN: The minimum temperature on a day\n",
    "* TAVG: (If available) The average temperature on a day"
   ]
  },
  {
   "cell_type": "code",
   "execution_count": 31,
   "id": "6a50b757",
   "metadata": {},
   "outputs": [],
   "source": [
    "import numpy as np\n",
    "import os\n",
    "import pandas as pd\n",
    "import seaborn as sns\n",
    "import sys\n",
    "sys.path.append(os.path.dirname(os.getcwd()))\n",
    "\n",
    "import functions\n",
    "# from functions import map_stations"
   ]
  },
  {
   "cell_type": "code",
   "execution_count": null,
   "id": "0ef693dc",
   "metadata": {},
   "outputs": [
    {
     "data": {
      "application/vnd.microsoft.datawrangler.viewer.v0+json": {
       "columns": [
        {
         "name": "index",
         "rawType": "int64",
         "type": "integer"
        },
        {
         "name": "STATION",
         "rawType": "object",
         "type": "string"
        },
        {
         "name": "NAME",
         "rawType": "object",
         "type": "string"
        },
        {
         "name": "DATE",
         "rawType": "object",
         "type": "string"
        },
        {
         "name": "TAVG",
         "rawType": "float64",
         "type": "float"
        },
        {
         "name": "TMAX",
         "rawType": "float64",
         "type": "float"
        },
        {
         "name": "TMIN",
         "rawType": "float64",
         "type": "float"
        },
        {
         "name": "year",
         "rawType": "int32",
         "type": "integer"
        }
       ],
       "conversionMethod": "pd.DataFrame",
       "ref": "d5fd0a38-0a90-452f-ab3b-6ef9ca83d3f5",
       "rows": [
        [
         "25291",
         "USC00351643",
         "CLATSKANIE, OR US",
         "1935-05-01",
         null,
         "60.0",
         "40.0",
         "1935"
        ],
        [
         "25292",
         "USC00351643",
         "CLATSKANIE, OR US",
         "1935-05-02",
         null,
         "67.0",
         "36.0",
         "1935"
        ],
        [
         "25293",
         "USC00351643",
         "CLATSKANIE, OR US",
         "1935-05-03",
         null,
         "75.0",
         "40.0",
         "1935"
        ],
        [
         "25294",
         "USC00351643",
         "CLATSKANIE, OR US",
         "1935-05-04",
         null,
         "74.0",
         "41.0",
         "1935"
        ],
        [
         "25295",
         "USC00351643",
         "CLATSKANIE, OR US",
         "1935-05-05",
         null,
         "61.0",
         "49.0",
         "1935"
        ],
        [
         "25296",
         "USC00351643",
         "CLATSKANIE, OR US",
         "1935-05-06",
         null,
         "59.0",
         "46.0",
         "1935"
        ],
        [
         "25297",
         "USC00351643",
         "CLATSKANIE, OR US",
         "1935-05-07",
         null,
         "68.0",
         "40.0",
         "1935"
        ],
        [
         "25298",
         "USC00351643",
         "CLATSKANIE, OR US",
         "1935-05-08",
         null,
         "74.0",
         "43.0",
         "1935"
        ],
        [
         "25299",
         "USC00351643",
         "CLATSKANIE, OR US",
         "1935-05-09",
         null,
         "60.0",
         "46.0",
         "1935"
        ],
        [
         "25300",
         "USC00351643",
         "CLATSKANIE, OR US",
         "1935-05-10",
         null,
         "56.0",
         "42.0",
         "1935"
        ],
        [
         "25301",
         "USC00351643",
         "CLATSKANIE, OR US",
         "1935-05-11",
         null,
         "60.0",
         "42.0",
         "1935"
        ],
        [
         "25302",
         "USC00351643",
         "CLATSKANIE, OR US",
         "1935-05-12",
         null,
         "67.0",
         "41.0",
         "1935"
        ],
        [
         "25303",
         "USC00351643",
         "CLATSKANIE, OR US",
         "1935-05-13",
         null,
         "76.0",
         "43.0",
         "1935"
        ],
        [
         "25304",
         "USC00351643",
         "CLATSKANIE, OR US",
         "1935-05-14",
         null,
         "62.0",
         "46.0",
         "1935"
        ],
        [
         "25305",
         "USC00351643",
         "CLATSKANIE, OR US",
         "1935-05-15",
         null,
         "61.0",
         "41.0",
         "1935"
        ],
        [
         "25306",
         "USC00351643",
         "CLATSKANIE, OR US",
         "1935-05-16",
         null,
         "60.0",
         "45.0",
         "1935"
        ],
        [
         "25307",
         "USC00351643",
         "CLATSKANIE, OR US",
         "1935-05-17",
         null,
         "57.0",
         "47.0",
         "1935"
        ],
        [
         "25308",
         "USC00351643",
         "CLATSKANIE, OR US",
         "1935-05-18",
         null,
         "63.0",
         "40.0",
         "1935"
        ],
        [
         "25309",
         "USC00351643",
         "CLATSKANIE, OR US",
         "1935-05-19",
         null,
         "72.0",
         "44.0",
         "1935"
        ],
        [
         "25310",
         "USC00351643",
         "CLATSKANIE, OR US",
         "1935-05-20",
         null,
         "78.0",
         "45.0",
         "1935"
        ],
        [
         "25311",
         "USC00351643",
         "CLATSKANIE, OR US",
         "1935-05-21",
         null,
         "65.0",
         "46.0",
         "1935"
        ],
        [
         "25312",
         "USC00351643",
         "CLATSKANIE, OR US",
         "1935-05-22",
         null,
         "58.0",
         "48.0",
         "1935"
        ],
        [
         "25313",
         "USC00351643",
         "CLATSKANIE, OR US",
         "1935-05-23",
         null,
         "61.0",
         "43.0",
         "1935"
        ],
        [
         "25314",
         "USC00351643",
         "CLATSKANIE, OR US",
         "1935-05-24",
         null,
         "74.0",
         "33.0",
         "1935"
        ],
        [
         "25315",
         "USC00351643",
         "CLATSKANIE, OR US",
         "1935-05-25",
         null,
         "74.0",
         "41.0",
         "1935"
        ],
        [
         "25316",
         "USC00351643",
         "CLATSKANIE, OR US",
         "1935-05-26",
         null,
         "68.0",
         "48.0",
         "1935"
        ],
        [
         "25317",
         "USC00351643",
         "CLATSKANIE, OR US",
         "1935-05-27",
         null,
         "66.0",
         "47.0",
         "1935"
        ],
        [
         "25318",
         "USC00351643",
         "CLATSKANIE, OR US",
         "1935-05-28",
         null,
         "63.0",
         "49.0",
         "1935"
        ],
        [
         "25319",
         "USC00351643",
         "CLATSKANIE, OR US",
         "1935-05-29",
         null,
         "63.0",
         "49.0",
         "1935"
        ],
        [
         "25320",
         "USC00351643",
         "CLATSKANIE, OR US",
         "1935-05-30",
         null,
         "58.0",
         "50.0",
         "1935"
        ],
        [
         "25321",
         "USC00351643",
         "CLATSKANIE, OR US",
         "1935-05-31",
         null,
         "63.0",
         "49.0",
         "1935"
        ],
        [
         "25322",
         "USC00351643",
         "CLATSKANIE, OR US",
         "1935-06-01",
         null,
         "59.0",
         "50.0",
         "1935"
        ],
        [
         "25323",
         "USC00351643",
         "CLATSKANIE, OR US",
         "1935-06-02",
         null,
         "66.0",
         "43.0",
         "1935"
        ],
        [
         "25324",
         "USC00351643",
         "CLATSKANIE, OR US",
         "1935-06-03",
         null,
         "82.0",
         "42.0",
         "1935"
        ],
        [
         "25325",
         "USC00351643",
         "CLATSKANIE, OR US",
         "1935-06-04",
         null,
         "86.0",
         "47.0",
         "1935"
        ],
        [
         "25326",
         "USC00351643",
         "CLATSKANIE, OR US",
         "1935-06-05",
         null,
         "93.0",
         "48.0",
         "1935"
        ],
        [
         "25327",
         "USC00351643",
         "CLATSKANIE, OR US",
         "1935-06-06",
         null,
         "94.0",
         "51.0",
         "1935"
        ],
        [
         "25328",
         "USC00351643",
         "CLATSKANIE, OR US",
         "1935-06-07",
         null,
         "80.0",
         "51.0",
         "1935"
        ],
        [
         "25329",
         "USC00351643",
         "CLATSKANIE, OR US",
         "1935-06-08",
         null,
         "70.0",
         "52.0",
         "1935"
        ],
        [
         "25330",
         "USC00351643",
         "CLATSKANIE, OR US",
         "1935-06-09",
         null,
         "68.0",
         "46.0",
         "1935"
        ],
        [
         "25331",
         "USC00351643",
         "CLATSKANIE, OR US",
         "1935-06-10",
         null,
         "72.0",
         "54.0",
         "1935"
        ],
        [
         "25332",
         "USC00351643",
         "CLATSKANIE, OR US",
         "1935-06-11",
         null,
         "74.0",
         "50.0",
         "1935"
        ],
        [
         "25333",
         "USC00351643",
         "CLATSKANIE, OR US",
         "1935-06-12",
         null,
         "68.0",
         "56.0",
         "1935"
        ],
        [
         "25334",
         "USC00351643",
         "CLATSKANIE, OR US",
         "1935-06-13",
         null,
         "65.0",
         "51.0",
         "1935"
        ],
        [
         "25335",
         "USC00351643",
         "CLATSKANIE, OR US",
         "1935-06-14",
         null,
         "61.0",
         "51.0",
         "1935"
        ],
        [
         "25336",
         "USC00351643",
         "CLATSKANIE, OR US",
         "1935-06-15",
         null,
         "70.0",
         "45.0",
         "1935"
        ],
        [
         "25337",
         "USC00351643",
         "CLATSKANIE, OR US",
         "1935-06-16",
         null,
         "68.0",
         "50.0",
         "1935"
        ],
        [
         "25338",
         "USC00351643",
         "CLATSKANIE, OR US",
         "1935-06-17",
         null,
         "73.0",
         "52.0",
         "1935"
        ],
        [
         "25339",
         "USC00351643",
         "CLATSKANIE, OR US",
         "1935-06-18",
         null,
         "66.0",
         "53.0",
         "1935"
        ],
        [
         "25340",
         "USC00351643",
         "CLATSKANIE, OR US",
         "1935-06-19",
         null,
         "66.0",
         "49.0",
         "1935"
        ]
       ],
       "shape": {
        "columns": 7,
        "rows": 32721
       }
      },
      "text/html": [
       "<div>\n",
       "<style scoped>\n",
       "    .dataframe tbody tr th:only-of-type {\n",
       "        vertical-align: middle;\n",
       "    }\n",
       "\n",
       "    .dataframe tbody tr th {\n",
       "        vertical-align: top;\n",
       "    }\n",
       "\n",
       "    .dataframe thead th {\n",
       "        text-align: right;\n",
       "    }\n",
       "</style>\n",
       "<table border=\"1\" class=\"dataframe\">\n",
       "  <thead>\n",
       "    <tr style=\"text-align: right;\">\n",
       "      <th></th>\n",
       "      <th>STATION</th>\n",
       "      <th>NAME</th>\n",
       "      <th>DATE</th>\n",
       "      <th>TAVG</th>\n",
       "      <th>TMAX</th>\n",
       "      <th>TMIN</th>\n",
       "      <th>year</th>\n",
       "    </tr>\n",
       "  </thead>\n",
       "  <tbody>\n",
       "    <tr>\n",
       "      <th>25291</th>\n",
       "      <td>USC00351643</td>\n",
       "      <td>CLATSKANIE, OR US</td>\n",
       "      <td>1935-05-01</td>\n",
       "      <td>NaN</td>\n",
       "      <td>60.0</td>\n",
       "      <td>40.0</td>\n",
       "      <td>1935</td>\n",
       "    </tr>\n",
       "    <tr>\n",
       "      <th>25292</th>\n",
       "      <td>USC00351643</td>\n",
       "      <td>CLATSKANIE, OR US</td>\n",
       "      <td>1935-05-02</td>\n",
       "      <td>NaN</td>\n",
       "      <td>67.0</td>\n",
       "      <td>36.0</td>\n",
       "      <td>1935</td>\n",
       "    </tr>\n",
       "    <tr>\n",
       "      <th>25293</th>\n",
       "      <td>USC00351643</td>\n",
       "      <td>CLATSKANIE, OR US</td>\n",
       "      <td>1935-05-03</td>\n",
       "      <td>NaN</td>\n",
       "      <td>75.0</td>\n",
       "      <td>40.0</td>\n",
       "      <td>1935</td>\n",
       "    </tr>\n",
       "    <tr>\n",
       "      <th>25294</th>\n",
       "      <td>USC00351643</td>\n",
       "      <td>CLATSKANIE, OR US</td>\n",
       "      <td>1935-05-04</td>\n",
       "      <td>NaN</td>\n",
       "      <td>74.0</td>\n",
       "      <td>41.0</td>\n",
       "      <td>1935</td>\n",
       "    </tr>\n",
       "    <tr>\n",
       "      <th>25295</th>\n",
       "      <td>USC00351643</td>\n",
       "      <td>CLATSKANIE, OR US</td>\n",
       "      <td>1935-05-05</td>\n",
       "      <td>NaN</td>\n",
       "      <td>61.0</td>\n",
       "      <td>49.0</td>\n",
       "      <td>1935</td>\n",
       "    </tr>\n",
       "    <tr>\n",
       "      <th>...</th>\n",
       "      <td>...</td>\n",
       "      <td>...</td>\n",
       "      <td>...</td>\n",
       "      <td>...</td>\n",
       "      <td>...</td>\n",
       "      <td>...</td>\n",
       "      <td>...</td>\n",
       "    </tr>\n",
       "    <tr>\n",
       "      <th>58007</th>\n",
       "      <td>USC00351643</td>\n",
       "      <td>CLATSKANIE, OR US</td>\n",
       "      <td>2024-12-27</td>\n",
       "      <td>NaN</td>\n",
       "      <td>54.0</td>\n",
       "      <td>42.0</td>\n",
       "      <td>2024</td>\n",
       "    </tr>\n",
       "    <tr>\n",
       "      <th>58008</th>\n",
       "      <td>USC00351643</td>\n",
       "      <td>CLATSKANIE, OR US</td>\n",
       "      <td>2024-12-28</td>\n",
       "      <td>NaN</td>\n",
       "      <td>50.0</td>\n",
       "      <td>43.0</td>\n",
       "      <td>2024</td>\n",
       "    </tr>\n",
       "    <tr>\n",
       "      <th>58009</th>\n",
       "      <td>USC00351643</td>\n",
       "      <td>CLATSKANIE, OR US</td>\n",
       "      <td>2024-12-29</td>\n",
       "      <td>NaN</td>\n",
       "      <td>51.0</td>\n",
       "      <td>43.0</td>\n",
       "      <td>2024</td>\n",
       "    </tr>\n",
       "    <tr>\n",
       "      <th>58010</th>\n",
       "      <td>USC00351643</td>\n",
       "      <td>CLATSKANIE, OR US</td>\n",
       "      <td>2024-12-30</td>\n",
       "      <td>NaN</td>\n",
       "      <td>49.0</td>\n",
       "      <td>36.0</td>\n",
       "      <td>2024</td>\n",
       "    </tr>\n",
       "    <tr>\n",
       "      <th>58011</th>\n",
       "      <td>USC00351643</td>\n",
       "      <td>CLATSKANIE, OR US</td>\n",
       "      <td>2024-12-31</td>\n",
       "      <td>NaN</td>\n",
       "      <td>49.0</td>\n",
       "      <td>32.0</td>\n",
       "      <td>2024</td>\n",
       "    </tr>\n",
       "  </tbody>\n",
       "</table>\n",
       "<p>32721 rows × 7 columns</p>\n",
       "</div>"
      ],
      "text/plain": [
       "           STATION               NAME        DATE  TAVG  TMAX  TMIN  year\n",
       "25291  USC00351643  CLATSKANIE, OR US  1935-05-01   NaN  60.0  40.0  1935\n",
       "25292  USC00351643  CLATSKANIE, OR US  1935-05-02   NaN  67.0  36.0  1935\n",
       "25293  USC00351643  CLATSKANIE, OR US  1935-05-03   NaN  75.0  40.0  1935\n",
       "25294  USC00351643  CLATSKANIE, OR US  1935-05-04   NaN  74.0  41.0  1935\n",
       "25295  USC00351643  CLATSKANIE, OR US  1935-05-05   NaN  61.0  49.0  1935\n",
       "...            ...                ...         ...   ...   ...   ...   ...\n",
       "58007  USC00351643  CLATSKANIE, OR US  2024-12-27   NaN  54.0  42.0  2024\n",
       "58008  USC00351643  CLATSKANIE, OR US  2024-12-28   NaN  50.0  43.0  2024\n",
       "58009  USC00351643  CLATSKANIE, OR US  2024-12-29   NaN  51.0  43.0  2024\n",
       "58010  USC00351643  CLATSKANIE, OR US  2024-12-30   NaN  49.0  36.0  2024\n",
       "58011  USC00351643  CLATSKANIE, OR US  2024-12-31   NaN  49.0  32.0  2024\n",
       "\n",
       "[32721 rows x 7 columns]"
      ]
     },
     "execution_count": 14,
     "metadata": {},
     "output_type": "execute_result"
    }
   ],
   "source": [
    "# Station 1 - Clatskanie\n",
    "df = pd.read_csv('../data/temperature_97016.csv')\n",
    "df = df.assign(year = pd.to_datetime(df['DATE']).dt.year)\n",
    "df = df[df['year']<2025]\n",
    "\n",
    "# Verify station \n",
    "# functions.view_station_date_ranges(df)\n",
    "# geo_data = pd.read_csv('../data/geo_data.csv')\n",
    "# functions.map_stations(geo_data)\n",
    "\n",
    "df1 = df[df['STATION']=='USC00351643']\n",
    "# df[df['TAVG'].notnull()]['STATION'].unique()"
   ]
  },
  {
   "cell_type": "code",
   "execution_count": null,
   "id": "86e10a5e",
   "metadata": {},
   "outputs": [
    {
     "data": {
      "application/vnd.microsoft.datawrangler.viewer.v0+json": {
       "columns": [
        {
         "name": "index",
         "rawType": "int64",
         "type": "integer"
        },
        {
         "name": "STATION",
         "rawType": "object",
         "type": "string"
        },
        {
         "name": "NAME",
         "rawType": "object",
         "type": "string"
        },
        {
         "name": "DATE",
         "rawType": "object",
         "type": "string"
        },
        {
         "name": "TAVG",
         "rawType": "float64",
         "type": "float"
        },
        {
         "name": "TMAX",
         "rawType": "int64",
         "type": "integer"
        },
        {
         "name": "TMIN",
         "rawType": "int64",
         "type": "integer"
        },
        {
         "name": "year",
         "rawType": "int32",
         "type": "integer"
        }
       ],
       "conversionMethod": "pd.DataFrame",
       "ref": "1171f04a-d4b7-4364-bd1c-c9a893353a76",
       "rows": [
        [
         "0",
         "USW00024229",
         "PORTLAND INTERNATIONAL AIRPORT, OR US",
         "1940-10-14",
         null,
         "70",
         "53",
         "1940"
        ],
        [
         "1",
         "USW00024229",
         "PORTLAND INTERNATIONAL AIRPORT, OR US",
         "1940-10-15",
         null,
         "64",
         "52",
         "1940"
        ],
        [
         "2",
         "USW00024229",
         "PORTLAND INTERNATIONAL AIRPORT, OR US",
         "1940-10-16",
         null,
         "72",
         "50",
         "1940"
        ],
        [
         "3",
         "USW00024229",
         "PORTLAND INTERNATIONAL AIRPORT, OR US",
         "1940-10-17",
         null,
         "72",
         "58",
         "1940"
        ],
        [
         "4",
         "USW00024229",
         "PORTLAND INTERNATIONAL AIRPORT, OR US",
         "1940-10-18",
         null,
         "78",
         "58",
         "1940"
        ],
        [
         "5",
         "USW00024229",
         "PORTLAND INTERNATIONAL AIRPORT, OR US",
         "1940-10-19",
         null,
         "78",
         "59",
         "1940"
        ],
        [
         "6",
         "USW00024229",
         "PORTLAND INTERNATIONAL AIRPORT, OR US",
         "1940-10-20",
         null,
         "64",
         "54",
         "1940"
        ],
        [
         "7",
         "USW00024229",
         "PORTLAND INTERNATIONAL AIRPORT, OR US",
         "1940-10-21",
         null,
         "63",
         "48",
         "1940"
        ],
        [
         "8",
         "USW00024229",
         "PORTLAND INTERNATIONAL AIRPORT, OR US",
         "1940-10-22",
         null,
         "61",
         "41",
         "1940"
        ],
        [
         "9",
         "USW00024229",
         "PORTLAND INTERNATIONAL AIRPORT, OR US",
         "1940-10-23",
         null,
         "58",
         "53",
         "1940"
        ],
        [
         "10",
         "USW00024229",
         "PORTLAND INTERNATIONAL AIRPORT, OR US",
         "1940-10-24",
         null,
         "57",
         "48",
         "1940"
        ],
        [
         "11",
         "USW00024229",
         "PORTLAND INTERNATIONAL AIRPORT, OR US",
         "1940-10-25",
         null,
         "57",
         "41",
         "1940"
        ],
        [
         "12",
         "USW00024229",
         "PORTLAND INTERNATIONAL AIRPORT, OR US",
         "1940-10-26",
         null,
         "57",
         "38",
         "1940"
        ],
        [
         "13",
         "USW00024229",
         "PORTLAND INTERNATIONAL AIRPORT, OR US",
         "1940-10-27",
         null,
         "56",
         "37",
         "1940"
        ],
        [
         "14",
         "USW00024229",
         "PORTLAND INTERNATIONAL AIRPORT, OR US",
         "1940-10-28",
         null,
         "53",
         "45",
         "1940"
        ],
        [
         "15",
         "USW00024229",
         "PORTLAND INTERNATIONAL AIRPORT, OR US",
         "1940-10-29",
         null,
         "59",
         "48",
         "1940"
        ],
        [
         "16",
         "USW00024229",
         "PORTLAND INTERNATIONAL AIRPORT, OR US",
         "1940-10-30",
         null,
         "59",
         "50",
         "1940"
        ],
        [
         "17",
         "USW00024229",
         "PORTLAND INTERNATIONAL AIRPORT, OR US",
         "1940-10-31",
         null,
         "52",
         "46",
         "1940"
        ],
        [
         "18",
         "USW00024229",
         "PORTLAND INTERNATIONAL AIRPORT, OR US",
         "1940-11-01",
         null,
         "52",
         "40",
         "1940"
        ],
        [
         "19",
         "USW00024229",
         "PORTLAND INTERNATIONAL AIRPORT, OR US",
         "1940-11-02",
         null,
         "53",
         "38",
         "1940"
        ],
        [
         "20",
         "USW00024229",
         "PORTLAND INTERNATIONAL AIRPORT, OR US",
         "1940-11-03",
         null,
         "47",
         "36",
         "1940"
        ],
        [
         "21",
         "USW00024229",
         "PORTLAND INTERNATIONAL AIRPORT, OR US",
         "1940-11-04",
         null,
         "55",
         "32",
         "1940"
        ],
        [
         "22",
         "USW00024229",
         "PORTLAND INTERNATIONAL AIRPORT, OR US",
         "1940-11-05",
         null,
         "51",
         "42",
         "1940"
        ],
        [
         "23",
         "USW00024229",
         "PORTLAND INTERNATIONAL AIRPORT, OR US",
         "1940-11-06",
         null,
         "58",
         "46",
         "1940"
        ],
        [
         "24",
         "USW00024229",
         "PORTLAND INTERNATIONAL AIRPORT, OR US",
         "1940-11-07",
         null,
         "56",
         "46",
         "1940"
        ],
        [
         "25",
         "USW00024229",
         "PORTLAND INTERNATIONAL AIRPORT, OR US",
         "1940-11-08",
         null,
         "50",
         "42",
         "1940"
        ],
        [
         "26",
         "USW00024229",
         "PORTLAND INTERNATIONAL AIRPORT, OR US",
         "1940-11-09",
         null,
         "48",
         "35",
         "1940"
        ],
        [
         "27",
         "USW00024229",
         "PORTLAND INTERNATIONAL AIRPORT, OR US",
         "1940-11-10",
         null,
         "47",
         "34",
         "1940"
        ],
        [
         "28",
         "USW00024229",
         "PORTLAND INTERNATIONAL AIRPORT, OR US",
         "1940-11-11",
         null,
         "46",
         "35",
         "1940"
        ],
        [
         "29",
         "USW00024229",
         "PORTLAND INTERNATIONAL AIRPORT, OR US",
         "1940-11-12",
         null,
         "45",
         "33",
         "1940"
        ],
        [
         "30",
         "USW00024229",
         "PORTLAND INTERNATIONAL AIRPORT, OR US",
         "1940-11-13",
         null,
         "45",
         "34",
         "1940"
        ],
        [
         "31",
         "USW00024229",
         "PORTLAND INTERNATIONAL AIRPORT, OR US",
         "1940-11-14",
         null,
         "47",
         "33",
         "1940"
        ],
        [
         "32",
         "USW00024229",
         "PORTLAND INTERNATIONAL AIRPORT, OR US",
         "1940-11-15",
         null,
         "53",
         "28",
         "1940"
        ],
        [
         "33",
         "USW00024229",
         "PORTLAND INTERNATIONAL AIRPORT, OR US",
         "1940-11-16",
         null,
         "49",
         "27",
         "1940"
        ],
        [
         "34",
         "USW00024229",
         "PORTLAND INTERNATIONAL AIRPORT, OR US",
         "1940-11-17",
         null,
         "46",
         "36",
         "1940"
        ],
        [
         "35",
         "USW00024229",
         "PORTLAND INTERNATIONAL AIRPORT, OR US",
         "1940-11-18",
         null,
         "49",
         "30",
         "1940"
        ],
        [
         "36",
         "USW00024229",
         "PORTLAND INTERNATIONAL AIRPORT, OR US",
         "1940-11-19",
         null,
         "46",
         "29",
         "1940"
        ],
        [
         "37",
         "USW00024229",
         "PORTLAND INTERNATIONAL AIRPORT, OR US",
         "1940-11-20",
         null,
         "49",
         "36",
         "1940"
        ],
        [
         "38",
         "USW00024229",
         "PORTLAND INTERNATIONAL AIRPORT, OR US",
         "1940-11-21",
         null,
         "50",
         "33",
         "1940"
        ],
        [
         "39",
         "USW00024229",
         "PORTLAND INTERNATIONAL AIRPORT, OR US",
         "1940-11-22",
         null,
         "44",
         "28",
         "1940"
        ],
        [
         "40",
         "USW00024229",
         "PORTLAND INTERNATIONAL AIRPORT, OR US",
         "1940-11-23",
         null,
         "42",
         "37",
         "1940"
        ],
        [
         "41",
         "USW00024229",
         "PORTLAND INTERNATIONAL AIRPORT, OR US",
         "1940-11-24",
         null,
         "44",
         "35",
         "1940"
        ],
        [
         "42",
         "USW00024229",
         "PORTLAND INTERNATIONAL AIRPORT, OR US",
         "1940-11-25",
         null,
         "51",
         "37",
         "1940"
        ],
        [
         "43",
         "USW00024229",
         "PORTLAND INTERNATIONAL AIRPORT, OR US",
         "1940-11-26",
         null,
         "44",
         "36",
         "1940"
        ],
        [
         "44",
         "USW00024229",
         "PORTLAND INTERNATIONAL AIRPORT, OR US",
         "1940-11-27",
         null,
         "45",
         "38",
         "1940"
        ],
        [
         "45",
         "USW00024229",
         "PORTLAND INTERNATIONAL AIRPORT, OR US",
         "1940-11-28",
         null,
         "59",
         "43",
         "1940"
        ],
        [
         "46",
         "USW00024229",
         "PORTLAND INTERNATIONAL AIRPORT, OR US",
         "1940-11-29",
         null,
         "57",
         "40",
         "1940"
        ],
        [
         "47",
         "USW00024229",
         "PORTLAND INTERNATIONAL AIRPORT, OR US",
         "1940-11-30",
         null,
         "45",
         "39",
         "1940"
        ],
        [
         "48",
         "USW00024229",
         "PORTLAND INTERNATIONAL AIRPORT, OR US",
         "1940-12-01",
         null,
         "51",
         "42",
         "1940"
        ],
        [
         "49",
         "USW00024229",
         "PORTLAND INTERNATIONAL AIRPORT, OR US",
         "1940-12-02",
         null,
         "53",
         "40",
         "1940"
        ]
       ],
       "shape": {
        "columns": 7,
        "rows": 30760
       }
      },
      "text/html": [
       "<div>\n",
       "<style scoped>\n",
       "    .dataframe tbody tr th:only-of-type {\n",
       "        vertical-align: middle;\n",
       "    }\n",
       "\n",
       "    .dataframe tbody tr th {\n",
       "        vertical-align: top;\n",
       "    }\n",
       "\n",
       "    .dataframe thead th {\n",
       "        text-align: right;\n",
       "    }\n",
       "</style>\n",
       "<table border=\"1\" class=\"dataframe\">\n",
       "  <thead>\n",
       "    <tr style=\"text-align: right;\">\n",
       "      <th></th>\n",
       "      <th>STATION</th>\n",
       "      <th>NAME</th>\n",
       "      <th>DATE</th>\n",
       "      <th>TAVG</th>\n",
       "      <th>TMAX</th>\n",
       "      <th>TMIN</th>\n",
       "      <th>year</th>\n",
       "    </tr>\n",
       "  </thead>\n",
       "  <tbody>\n",
       "    <tr>\n",
       "      <th>0</th>\n",
       "      <td>USW00024229</td>\n",
       "      <td>PORTLAND INTERNATIONAL AIRPORT, OR US</td>\n",
       "      <td>1940-10-14</td>\n",
       "      <td>NaN</td>\n",
       "      <td>70</td>\n",
       "      <td>53</td>\n",
       "      <td>1940</td>\n",
       "    </tr>\n",
       "    <tr>\n",
       "      <th>1</th>\n",
       "      <td>USW00024229</td>\n",
       "      <td>PORTLAND INTERNATIONAL AIRPORT, OR US</td>\n",
       "      <td>1940-10-15</td>\n",
       "      <td>NaN</td>\n",
       "      <td>64</td>\n",
       "      <td>52</td>\n",
       "      <td>1940</td>\n",
       "    </tr>\n",
       "    <tr>\n",
       "      <th>2</th>\n",
       "      <td>USW00024229</td>\n",
       "      <td>PORTLAND INTERNATIONAL AIRPORT, OR US</td>\n",
       "      <td>1940-10-16</td>\n",
       "      <td>NaN</td>\n",
       "      <td>72</td>\n",
       "      <td>50</td>\n",
       "      <td>1940</td>\n",
       "    </tr>\n",
       "    <tr>\n",
       "      <th>3</th>\n",
       "      <td>USW00024229</td>\n",
       "      <td>PORTLAND INTERNATIONAL AIRPORT, OR US</td>\n",
       "      <td>1940-10-17</td>\n",
       "      <td>NaN</td>\n",
       "      <td>72</td>\n",
       "      <td>58</td>\n",
       "      <td>1940</td>\n",
       "    </tr>\n",
       "    <tr>\n",
       "      <th>4</th>\n",
       "      <td>USW00024229</td>\n",
       "      <td>PORTLAND INTERNATIONAL AIRPORT, OR US</td>\n",
       "      <td>1940-10-18</td>\n",
       "      <td>NaN</td>\n",
       "      <td>78</td>\n",
       "      <td>58</td>\n",
       "      <td>1940</td>\n",
       "    </tr>\n",
       "    <tr>\n",
       "      <th>...</th>\n",
       "      <td>...</td>\n",
       "      <td>...</td>\n",
       "      <td>...</td>\n",
       "      <td>...</td>\n",
       "      <td>...</td>\n",
       "      <td>...</td>\n",
       "      <td>...</td>\n",
       "    </tr>\n",
       "    <tr>\n",
       "      <th>30755</th>\n",
       "      <td>USW00024229</td>\n",
       "      <td>PORTLAND INTERNATIONAL AIRPORT, OR US</td>\n",
       "      <td>2024-12-27</td>\n",
       "      <td>49.0</td>\n",
       "      <td>53</td>\n",
       "      <td>45</td>\n",
       "      <td>2024</td>\n",
       "    </tr>\n",
       "    <tr>\n",
       "      <th>30756</th>\n",
       "      <td>USW00024229</td>\n",
       "      <td>PORTLAND INTERNATIONAL AIRPORT, OR US</td>\n",
       "      <td>2024-12-28</td>\n",
       "      <td>51.0</td>\n",
       "      <td>55</td>\n",
       "      <td>48</td>\n",
       "      <td>2024</td>\n",
       "    </tr>\n",
       "    <tr>\n",
       "      <th>30757</th>\n",
       "      <td>USW00024229</td>\n",
       "      <td>PORTLAND INTERNATIONAL AIRPORT, OR US</td>\n",
       "      <td>2024-12-29</td>\n",
       "      <td>49.0</td>\n",
       "      <td>52</td>\n",
       "      <td>43</td>\n",
       "      <td>2024</td>\n",
       "    </tr>\n",
       "    <tr>\n",
       "      <th>30758</th>\n",
       "      <td>USW00024229</td>\n",
       "      <td>PORTLAND INTERNATIONAL AIRPORT, OR US</td>\n",
       "      <td>2024-12-30</td>\n",
       "      <td>45.0</td>\n",
       "      <td>50</td>\n",
       "      <td>41</td>\n",
       "      <td>2024</td>\n",
       "    </tr>\n",
       "    <tr>\n",
       "      <th>30759</th>\n",
       "      <td>USW00024229</td>\n",
       "      <td>PORTLAND INTERNATIONAL AIRPORT, OR US</td>\n",
       "      <td>2024-12-31</td>\n",
       "      <td>43.0</td>\n",
       "      <td>45</td>\n",
       "      <td>37</td>\n",
       "      <td>2024</td>\n",
       "    </tr>\n",
       "  </tbody>\n",
       "</table>\n",
       "<p>30760 rows × 7 columns</p>\n",
       "</div>"
      ],
      "text/plain": [
       "           STATION                                   NAME        DATE  TAVG  \\\n",
       "0      USW00024229  PORTLAND INTERNATIONAL AIRPORT, OR US  1940-10-14   NaN   \n",
       "1      USW00024229  PORTLAND INTERNATIONAL AIRPORT, OR US  1940-10-15   NaN   \n",
       "2      USW00024229  PORTLAND INTERNATIONAL AIRPORT, OR US  1940-10-16   NaN   \n",
       "3      USW00024229  PORTLAND INTERNATIONAL AIRPORT, OR US  1940-10-17   NaN   \n",
       "4      USW00024229  PORTLAND INTERNATIONAL AIRPORT, OR US  1940-10-18   NaN   \n",
       "...            ...                                    ...         ...   ...   \n",
       "30755  USW00024229  PORTLAND INTERNATIONAL AIRPORT, OR US  2024-12-27  49.0   \n",
       "30756  USW00024229  PORTLAND INTERNATIONAL AIRPORT, OR US  2024-12-28  51.0   \n",
       "30757  USW00024229  PORTLAND INTERNATIONAL AIRPORT, OR US  2024-12-29  49.0   \n",
       "30758  USW00024229  PORTLAND INTERNATIONAL AIRPORT, OR US  2024-12-30  45.0   \n",
       "30759  USW00024229  PORTLAND INTERNATIONAL AIRPORT, OR US  2024-12-31  43.0   \n",
       "\n",
       "       TMAX  TMIN  year  \n",
       "0        70    53  1940  \n",
       "1        64    52  1940  \n",
       "2        72    50  1940  \n",
       "3        72    58  1940  \n",
       "4        78    58  1940  \n",
       "...     ...   ...   ...  \n",
       "30755    53    45  2024  \n",
       "30756    55    48  2024  \n",
       "30757    52    43  2024  \n",
       "30758    50    41  2024  \n",
       "30759    45    37  2024  \n",
       "\n",
       "[30760 rows x 7 columns]"
      ]
     },
     "execution_count": 15,
     "metadata": {},
     "output_type": "execute_result"
    }
   ],
   "source": [
    "# Station 2 - Portland\n",
    "df = pd.read_csv('../data/temperature_97218.csv')\n",
    "df = df.assign(year = pd.to_datetime(df['DATE']).dt.year)\n",
    "df = df[df['year']<2025]\n",
    "df.STATION.unique()\n",
    "\n",
    "df2 = df.copy()"
   ]
  },
  {
   "cell_type": "code",
   "execution_count": 18,
   "id": "d72d6424",
   "metadata": {},
   "outputs": [],
   "source": [
    "df1_suffix = '_CLATSKANIE'\n",
    "df2_suffix = '_PDX'\n",
    "df = df1.merge(df2,\n",
    "          on=['DATE', 'year'],\n",
    "          how='inner',\n",
    "          suffixes=(df1_suffix, df2_suffix)\n",
    "          ).drop(['STATION_PDX', 'STATION_CLATSKANIE'], axis=1)"
   ]
  },
  {
   "cell_type": "markdown",
   "id": "609b6f1b",
   "metadata": {},
   "source": [
    "Maximum Temperature"
   ]
  },
  {
   "cell_type": "code",
   "execution_count": 19,
   "id": "2e73cfc7",
   "metadata": {},
   "outputs": [
    {
     "data": {
      "application/vnd.microsoft.datawrangler.viewer.v0+json": {
       "columns": [
        {
         "name": "index",
         "rawType": "object",
         "type": "string"
        },
        {
         "name": "TMAX_CLATSKANIE",
         "rawType": "float64",
         "type": "float"
        },
        {
         "name": "TMAX_PDX",
         "rawType": "float64",
         "type": "float"
        }
       ],
       "conversionMethod": "pd.DataFrame",
       "ref": "5a470e0d-5e8c-4025-b4d0-69fd0c44e26a",
       "rows": [
        [
         "count",
         "30638.0",
         "30728.0"
        ],
        [
         "mean",
         "59.716887525295384",
         "62.78700208279094"
        ],
        [
         "std",
         "12.642278735249997",
         "14.488502885842673"
        ],
        [
         "min",
         "17.0",
         "14.0"
        ],
        [
         "25%",
         "50.0",
         "52.0"
        ],
        [
         "50%",
         "59.0",
         "61.0"
        ],
        [
         "75%",
         "69.0",
         "73.0"
        ],
        [
         "max",
         "103.0",
         "116.0"
        ]
       ],
       "shape": {
        "columns": 2,
        "rows": 8
       }
      },
      "text/html": [
       "<div>\n",
       "<style scoped>\n",
       "    .dataframe tbody tr th:only-of-type {\n",
       "        vertical-align: middle;\n",
       "    }\n",
       "\n",
       "    .dataframe tbody tr th {\n",
       "        vertical-align: top;\n",
       "    }\n",
       "\n",
       "    .dataframe thead th {\n",
       "        text-align: right;\n",
       "    }\n",
       "</style>\n",
       "<table border=\"1\" class=\"dataframe\">\n",
       "  <thead>\n",
       "    <tr style=\"text-align: right;\">\n",
       "      <th></th>\n",
       "      <th>TMAX_CLATSKANIE</th>\n",
       "      <th>TMAX_PDX</th>\n",
       "    </tr>\n",
       "  </thead>\n",
       "  <tbody>\n",
       "    <tr>\n",
       "      <th>count</th>\n",
       "      <td>30638.000000</td>\n",
       "      <td>30728.000000</td>\n",
       "    </tr>\n",
       "    <tr>\n",
       "      <th>mean</th>\n",
       "      <td>59.716888</td>\n",
       "      <td>62.787002</td>\n",
       "    </tr>\n",
       "    <tr>\n",
       "      <th>std</th>\n",
       "      <td>12.642279</td>\n",
       "      <td>14.488503</td>\n",
       "    </tr>\n",
       "    <tr>\n",
       "      <th>min</th>\n",
       "      <td>17.000000</td>\n",
       "      <td>14.000000</td>\n",
       "    </tr>\n",
       "    <tr>\n",
       "      <th>25%</th>\n",
       "      <td>50.000000</td>\n",
       "      <td>52.000000</td>\n",
       "    </tr>\n",
       "    <tr>\n",
       "      <th>50%</th>\n",
       "      <td>59.000000</td>\n",
       "      <td>61.000000</td>\n",
       "    </tr>\n",
       "    <tr>\n",
       "      <th>75%</th>\n",
       "      <td>69.000000</td>\n",
       "      <td>73.000000</td>\n",
       "    </tr>\n",
       "    <tr>\n",
       "      <th>max</th>\n",
       "      <td>103.000000</td>\n",
       "      <td>116.000000</td>\n",
       "    </tr>\n",
       "  </tbody>\n",
       "</table>\n",
       "</div>"
      ],
      "text/plain": [
       "       TMAX_CLATSKANIE      TMAX_PDX\n",
       "count     30638.000000  30728.000000\n",
       "mean         59.716888     62.787002\n",
       "std          12.642279     14.488503\n",
       "min          17.000000     14.000000\n",
       "25%          50.000000     52.000000\n",
       "50%          59.000000     61.000000\n",
       "75%          69.000000     73.000000\n",
       "max         103.000000    116.000000"
      ]
     },
     "execution_count": 19,
     "metadata": {},
     "output_type": "execute_result"
    }
   ],
   "source": [
    "df[['TMAX_CLATSKANIE', 'TMAX_PDX']].describe()"
   ]
  },
  {
   "cell_type": "code",
   "execution_count": 44,
   "id": "1d94f8ca",
   "metadata": {},
   "outputs": [
    {
     "data": {
      "application/vnd.microsoft.datawrangler.viewer.v0+json": {
       "columns": [
        {
         "name": "index",
         "rawType": "int64",
         "type": "integer"
        },
        {
         "name": "DATE",
         "rawType": "object",
         "type": "string"
        },
        {
         "name": "variable",
         "rawType": "object",
         "type": "string"
        },
        {
         "name": "value",
         "rawType": "float64",
         "type": "float"
        }
       ],
       "conversionMethod": "pd.DataFrame",
       "ref": "1da352fc-ab6c-4f96-ae83-32748aabfb77",
       "rows": [
        [
         "0",
         "1940-10-14",
         "TMAX_CLATSKANIE",
         "67.0"
        ],
        [
         "1",
         "1940-10-15",
         "TMAX_CLATSKANIE",
         "63.0"
        ],
        [
         "2",
         "1940-10-16",
         "TMAX_CLATSKANIE",
         "65.0"
        ],
        [
         "3",
         "1940-10-17",
         "TMAX_CLATSKANIE",
         "68.0"
        ],
        [
         "4",
         "1940-10-18",
         "TMAX_CLATSKANIE",
         "71.0"
        ],
        [
         "5",
         "1940-10-19",
         "TMAX_CLATSKANIE",
         "70.0"
        ],
        [
         "6",
         "1940-10-20",
         "TMAX_CLATSKANIE",
         "64.0"
        ],
        [
         "7",
         "1940-10-21",
         "TMAX_CLATSKANIE",
         "62.0"
        ],
        [
         "8",
         "1940-10-22",
         "TMAX_CLATSKANIE",
         "61.0"
        ],
        [
         "9",
         "1940-10-23",
         "TMAX_CLATSKANIE",
         "58.0"
        ],
        [
         "10",
         "1940-10-24",
         "TMAX_CLATSKANIE",
         "58.0"
        ],
        [
         "11",
         "1940-10-25",
         "TMAX_CLATSKANIE",
         "57.0"
        ],
        [
         "12",
         "1940-10-26",
         "TMAX_CLATSKANIE",
         "56.0"
        ],
        [
         "13",
         "1940-10-27",
         "TMAX_CLATSKANIE",
         "54.0"
        ],
        [
         "14",
         "1940-10-28",
         "TMAX_CLATSKANIE",
         "52.0"
        ],
        [
         "15",
         "1940-10-29",
         "TMAX_CLATSKANIE",
         "51.0"
        ],
        [
         "16",
         "1940-10-30",
         "TMAX_CLATSKANIE",
         "58.0"
        ],
        [
         "17",
         "1940-10-31",
         "TMAX_CLATSKANIE",
         "56.0"
        ],
        [
         "18",
         "1940-11-01",
         "TMAX_CLATSKANIE",
         "52.0"
        ],
        [
         "19",
         "1940-11-02",
         "TMAX_CLATSKANIE",
         "51.0"
        ],
        [
         "20",
         "1940-11-03",
         "TMAX_CLATSKANIE",
         "49.0"
        ],
        [
         "21",
         "1940-11-04",
         "TMAX_CLATSKANIE",
         "51.0"
        ],
        [
         "22",
         "1940-11-05",
         "TMAX_CLATSKANIE",
         "56.0"
        ],
        [
         "23",
         "1940-11-06",
         "TMAX_CLATSKANIE",
         "60.0"
        ],
        [
         "24",
         "1940-11-07",
         "TMAX_CLATSKANIE",
         "54.0"
        ],
        [
         "25",
         "1940-11-08",
         "TMAX_CLATSKANIE",
         "45.0"
        ],
        [
         "26",
         "1940-11-09",
         "TMAX_CLATSKANIE",
         "47.0"
        ],
        [
         "27",
         "1940-11-10",
         "TMAX_CLATSKANIE",
         "42.0"
        ],
        [
         "28",
         "1940-11-11",
         "TMAX_CLATSKANIE",
         "44.0"
        ],
        [
         "29",
         "1940-11-12",
         "TMAX_CLATSKANIE",
         "45.0"
        ],
        [
         "30",
         "1940-11-13",
         "TMAX_CLATSKANIE",
         "48.0"
        ],
        [
         "31",
         "1940-11-14",
         "TMAX_CLATSKANIE",
         "48.0"
        ],
        [
         "32",
         "1940-11-15",
         "TMAX_CLATSKANIE",
         "45.0"
        ],
        [
         "33",
         "1940-11-16",
         "TMAX_CLATSKANIE",
         "45.0"
        ],
        [
         "34",
         "1940-11-17",
         "TMAX_CLATSKANIE",
         "50.0"
        ],
        [
         "35",
         "1940-11-18",
         "TMAX_CLATSKANIE",
         "45.0"
        ],
        [
         "36",
         "1940-11-19",
         "TMAX_CLATSKANIE",
         "43.0"
        ],
        [
         "37",
         "1940-11-20",
         "TMAX_CLATSKANIE",
         "45.0"
        ],
        [
         "38",
         "1940-11-21",
         "TMAX_CLATSKANIE",
         "44.0"
        ],
        [
         "39",
         "1940-11-22",
         "TMAX_CLATSKANIE",
         "37.0"
        ],
        [
         "40",
         "1940-11-23",
         "TMAX_CLATSKANIE",
         "43.0"
        ],
        [
         "41",
         "1940-11-24",
         "TMAX_CLATSKANIE",
         "49.0"
        ],
        [
         "42",
         "1940-11-25",
         "TMAX_CLATSKANIE",
         "46.0"
        ],
        [
         "43",
         "1940-11-26",
         "TMAX_CLATSKANIE",
         "46.0"
        ],
        [
         "44",
         "1940-11-27",
         "TMAX_CLATSKANIE",
         "47.0"
        ],
        [
         "45",
         "1940-11-28",
         "TMAX_CLATSKANIE",
         "55.0"
        ],
        [
         "46",
         "1940-11-29",
         "TMAX_CLATSKANIE",
         "54.0"
        ],
        [
         "47",
         "1940-11-30",
         "TMAX_CLATSKANIE",
         "46.0"
        ],
        [
         "48",
         "1940-12-01",
         "TMAX_CLATSKANIE",
         "51.0"
        ],
        [
         "49",
         "1940-12-02",
         "TMAX_CLATSKANIE",
         "51.0"
        ]
       ],
       "shape": {
        "columns": 3,
        "rows": 61456
       }
      },
      "text/html": [
       "<div>\n",
       "<style scoped>\n",
       "    .dataframe tbody tr th:only-of-type {\n",
       "        vertical-align: middle;\n",
       "    }\n",
       "\n",
       "    .dataframe tbody tr th {\n",
       "        vertical-align: top;\n",
       "    }\n",
       "\n",
       "    .dataframe thead th {\n",
       "        text-align: right;\n",
       "    }\n",
       "</style>\n",
       "<table border=\"1\" class=\"dataframe\">\n",
       "  <thead>\n",
       "    <tr style=\"text-align: right;\">\n",
       "      <th></th>\n",
       "      <th>DATE</th>\n",
       "      <th>variable</th>\n",
       "      <th>value</th>\n",
       "    </tr>\n",
       "  </thead>\n",
       "  <tbody>\n",
       "    <tr>\n",
       "      <th>0</th>\n",
       "      <td>1940-10-14</td>\n",
       "      <td>TMAX_CLATSKANIE</td>\n",
       "      <td>67.0</td>\n",
       "    </tr>\n",
       "    <tr>\n",
       "      <th>1</th>\n",
       "      <td>1940-10-15</td>\n",
       "      <td>TMAX_CLATSKANIE</td>\n",
       "      <td>63.0</td>\n",
       "    </tr>\n",
       "    <tr>\n",
       "      <th>2</th>\n",
       "      <td>1940-10-16</td>\n",
       "      <td>TMAX_CLATSKANIE</td>\n",
       "      <td>65.0</td>\n",
       "    </tr>\n",
       "    <tr>\n",
       "      <th>3</th>\n",
       "      <td>1940-10-17</td>\n",
       "      <td>TMAX_CLATSKANIE</td>\n",
       "      <td>68.0</td>\n",
       "    </tr>\n",
       "    <tr>\n",
       "      <th>4</th>\n",
       "      <td>1940-10-18</td>\n",
       "      <td>TMAX_CLATSKANIE</td>\n",
       "      <td>71.0</td>\n",
       "    </tr>\n",
       "    <tr>\n",
       "      <th>...</th>\n",
       "      <td>...</td>\n",
       "      <td>...</td>\n",
       "      <td>...</td>\n",
       "    </tr>\n",
       "    <tr>\n",
       "      <th>61451</th>\n",
       "      <td>2024-12-27</td>\n",
       "      <td>TMAX_PDX</td>\n",
       "      <td>53.0</td>\n",
       "    </tr>\n",
       "    <tr>\n",
       "      <th>61452</th>\n",
       "      <td>2024-12-28</td>\n",
       "      <td>TMAX_PDX</td>\n",
       "      <td>55.0</td>\n",
       "    </tr>\n",
       "    <tr>\n",
       "      <th>61453</th>\n",
       "      <td>2024-12-29</td>\n",
       "      <td>TMAX_PDX</td>\n",
       "      <td>52.0</td>\n",
       "    </tr>\n",
       "    <tr>\n",
       "      <th>61454</th>\n",
       "      <td>2024-12-30</td>\n",
       "      <td>TMAX_PDX</td>\n",
       "      <td>50.0</td>\n",
       "    </tr>\n",
       "    <tr>\n",
       "      <th>61455</th>\n",
       "      <td>2024-12-31</td>\n",
       "      <td>TMAX_PDX</td>\n",
       "      <td>45.0</td>\n",
       "    </tr>\n",
       "  </tbody>\n",
       "</table>\n",
       "<p>61456 rows × 3 columns</p>\n",
       "</div>"
      ],
      "text/plain": [
       "             DATE         variable  value\n",
       "0      1940-10-14  TMAX_CLATSKANIE   67.0\n",
       "1      1940-10-15  TMAX_CLATSKANIE   63.0\n",
       "2      1940-10-16  TMAX_CLATSKANIE   65.0\n",
       "3      1940-10-17  TMAX_CLATSKANIE   68.0\n",
       "4      1940-10-18  TMAX_CLATSKANIE   71.0\n",
       "...           ...              ...    ...\n",
       "61451  2024-12-27         TMAX_PDX   53.0\n",
       "61452  2024-12-28         TMAX_PDX   55.0\n",
       "61453  2024-12-29         TMAX_PDX   52.0\n",
       "61454  2024-12-30         TMAX_PDX   50.0\n",
       "61455  2024-12-31         TMAX_PDX   45.0\n",
       "\n",
       "[61456 rows x 3 columns]"
      ]
     },
     "execution_count": 44,
     "metadata": {},
     "output_type": "execute_result"
    }
   ],
   "source": [
    "# Stack the TMAX of the locations; make the wide data long\n",
    "x = pd.melt(df,\n",
    "            id_vars='DATE',\n",
    "            value_vars=['TMAX_CLATSKANIE', 'TMAX_PDX'])\n",
    "x"
   ]
  },
  {
   "cell_type": "code",
   "execution_count": null,
   "id": "34ae8484",
   "metadata": {},
   "outputs": [
    {
     "name": "stderr",
     "output_type": "stream",
     "text": [
      "Exception ignored in: <bound method IPythonKernel._clean_thread_parent_frames of <ipykernel.ipkernel.IPythonKernel object at 0x10cfa78c0>>\n",
      "Traceback (most recent call last):\n",
      "  File \"/Users/alberta/Library/Caches/pypoetry/virtualenvs/weather-python-DmzbIOXk-py3.13/lib/python3.13/site-packages/ipykernel/ipkernel.py\", line 775, in _clean_thread_parent_frames\n",
      "    def _clean_thread_parent_frames(\n",
      "KeyboardInterrupt: \n",
      "Exception ignored in: <bound method IPythonKernel._clean_thread_parent_frames of <ipykernel.ipkernel.IPythonKernel object at 0x10cfa78c0>>\n",
      "Traceback (most recent call last):\n",
      "  File \"/Users/alberta/Library/Caches/pypoetry/virtualenvs/weather-python-DmzbIOXk-py3.13/lib/python3.13/site-packages/ipykernel/ipkernel.py\", line 775, in _clean_thread_parent_frames\n",
      "    def _clean_thread_parent_frames(\n",
      "KeyboardInterrupt: \n",
      "\n",
      "KeyboardInterrupt\n",
      "\n"
     ]
    }
   ],
   "source": [
    "sns.lineplot(x[x['YEAR']==2024],\n",
    "         x='DATE',\n",
    "         y='value',\n",
    "         hue='variable')"
   ]
  },
  {
   "cell_type": "markdown",
   "id": "9598df84",
   "metadata": {},
   "source": [
    "Minimum Temperature"
   ]
  },
  {
   "cell_type": "code",
   "execution_count": 20,
   "id": "83e4c971",
   "metadata": {},
   "outputs": [
    {
     "data": {
      "application/vnd.microsoft.datawrangler.viewer.v0+json": {
       "columns": [
        {
         "name": "index",
         "rawType": "object",
         "type": "string"
        },
        {
         "name": "TMIN_CLATSKANIE",
         "rawType": "float64",
         "type": "float"
        },
        {
         "name": "TMIN_PDX",
         "rawType": "float64",
         "type": "float"
        }
       ],
       "conversionMethod": "pd.DataFrame",
       "ref": "66dcb4a0-1fd5-42eb-a464-6ac695e5d122",
       "rows": [
        [
         "count",
         "30636.0",
         "30728.0"
        ],
        [
         "mean",
         "42.24947773860817",
         "45.1508070814892"
        ],
        [
         "std",
         "9.14752643134221",
         "9.87395612711382"
        ],
        [
         "min",
         "1.0",
         "-3.0"
        ],
        [
         "25%",
         "35.0",
         "38.0"
        ],
        [
         "50%",
         "42.0",
         "45.0"
        ],
        [
         "75%",
         "50.0",
         "53.0"
        ],
        [
         "max",
         "66.0",
         "75.0"
        ]
       ],
       "shape": {
        "columns": 2,
        "rows": 8
       }
      },
      "text/html": [
       "<div>\n",
       "<style scoped>\n",
       "    .dataframe tbody tr th:only-of-type {\n",
       "        vertical-align: middle;\n",
       "    }\n",
       "\n",
       "    .dataframe tbody tr th {\n",
       "        vertical-align: top;\n",
       "    }\n",
       "\n",
       "    .dataframe thead th {\n",
       "        text-align: right;\n",
       "    }\n",
       "</style>\n",
       "<table border=\"1\" class=\"dataframe\">\n",
       "  <thead>\n",
       "    <tr style=\"text-align: right;\">\n",
       "      <th></th>\n",
       "      <th>TMIN_CLATSKANIE</th>\n",
       "      <th>TMIN_PDX</th>\n",
       "    </tr>\n",
       "  </thead>\n",
       "  <tbody>\n",
       "    <tr>\n",
       "      <th>count</th>\n",
       "      <td>30636.000000</td>\n",
       "      <td>30728.000000</td>\n",
       "    </tr>\n",
       "    <tr>\n",
       "      <th>mean</th>\n",
       "      <td>42.249478</td>\n",
       "      <td>45.150807</td>\n",
       "    </tr>\n",
       "    <tr>\n",
       "      <th>std</th>\n",
       "      <td>9.147526</td>\n",
       "      <td>9.873956</td>\n",
       "    </tr>\n",
       "    <tr>\n",
       "      <th>min</th>\n",
       "      <td>1.000000</td>\n",
       "      <td>-3.000000</td>\n",
       "    </tr>\n",
       "    <tr>\n",
       "      <th>25%</th>\n",
       "      <td>35.000000</td>\n",
       "      <td>38.000000</td>\n",
       "    </tr>\n",
       "    <tr>\n",
       "      <th>50%</th>\n",
       "      <td>42.000000</td>\n",
       "      <td>45.000000</td>\n",
       "    </tr>\n",
       "    <tr>\n",
       "      <th>75%</th>\n",
       "      <td>50.000000</td>\n",
       "      <td>53.000000</td>\n",
       "    </tr>\n",
       "    <tr>\n",
       "      <th>max</th>\n",
       "      <td>66.000000</td>\n",
       "      <td>75.000000</td>\n",
       "    </tr>\n",
       "  </tbody>\n",
       "</table>\n",
       "</div>"
      ],
      "text/plain": [
       "       TMIN_CLATSKANIE      TMIN_PDX\n",
       "count     30636.000000  30728.000000\n",
       "mean         42.249478     45.150807\n",
       "std           9.147526      9.873956\n",
       "min           1.000000     -3.000000\n",
       "25%          35.000000     38.000000\n",
       "50%          42.000000     45.000000\n",
       "75%          50.000000     53.000000\n",
       "max          66.000000     75.000000"
      ]
     },
     "execution_count": 20,
     "metadata": {},
     "output_type": "execute_result"
    }
   ],
   "source": [
    "df[['TMIN_CLATSKANIE', 'TMIN_PDX']].describe()"
   ]
  },
  {
   "cell_type": "code",
   "execution_count": null,
   "id": "bca28789",
   "metadata": {},
   "outputs": [],
   "source": []
  }
 ],
 "metadata": {
  "kernelspec": {
   "display_name": "weather-python-DmzbIOXk-py3.13",
   "language": "python",
   "name": "python3"
  },
  "language_info": {
   "codemirror_mode": {
    "name": "ipython",
    "version": 3
   },
   "file_extension": ".py",
   "mimetype": "text/x-python",
   "name": "python",
   "nbconvert_exporter": "python",
   "pygments_lexer": "ipython3",
   "version": "3.13.1"
  }
 },
 "nbformat": 4,
 "nbformat_minor": 5
}
