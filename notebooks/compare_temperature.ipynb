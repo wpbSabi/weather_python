{
 "cells": [
  {
   "cell_type": "markdown",
   "id": "59431e41",
   "metadata": {},
   "source": [
    "# Compare Temperature Across Locations\n",
    "* TMAX: The maximum temperature on a day\n",
    "* TMIN: The minimum temperature on a day\n",
    "* TAVG: (If available) The average temperature on a day"
   ]
  },
  {
   "cell_type": "code",
   "execution_count": 1,
   "id": "6a50b757",
   "metadata": {},
   "outputs": [],
   "source": [
    "import matplotlib.dates as mdates\n",
    "import matplotlib.pyplot as plt\n",
    "import os\n",
    "import pandas as pd\n",
    "import seaborn as sns\n",
    "import sys\n",
    "sys.path.append(os.path.dirname(os.getcwd()))\n",
    "\n",
    "import functions\n",
    "# from functions import map_stations"
   ]
  },
  {
   "cell_type": "code",
   "execution_count": 2,
   "id": "0ef693dc",
   "metadata": {},
   "outputs": [],
   "source": [
    "# Station 1 - Clatskanie\n",
    "df = pd.read_csv('../data/temperature_97016.csv')\n",
    "df = df.assign(year = pd.to_datetime(df['DATE']).dt.year)\n",
    "df = df[df['year']<2025]\n",
    "\n",
    "# Verify station \n",
    "# functions.view_station_date_ranges(df)\n",
    "# geo_data = pd.read_csv('../data/geo_data.csv')\n",
    "# functions.map_stations(geo_data)\n",
    "\n",
    "df1 = df[df['STATION']=='USC00351643']\n",
    "# df[df['TAVG'].notnull()]['STATION'].unique()"
   ]
  },
  {
   "cell_type": "code",
   "execution_count": 3,
   "id": "86e10a5e",
   "metadata": {},
   "outputs": [],
   "source": [
    "# Station 2 - Portland\n",
    "df = pd.read_csv('../data/temperature_97218.csv')\n",
    "df = df.assign(year = pd.to_datetime(df['DATE']).dt.year)\n",
    "df = df[df['year']<2025]\n",
    "df.STATION.unique()\n",
    "\n",
    "df2 = df.copy()"
   ]
  },
  {
   "cell_type": "code",
   "execution_count": 4,
   "id": "d72d6424",
   "metadata": {},
   "outputs": [],
   "source": [
    "df1_suffix = '_CLATSKANIE'\n",
    "df2_suffix = '_PDX'\n",
    "df = df1.merge(df2,\n",
    "          on=['DATE', 'year'],\n",
    "          how='inner',\n",
    "          suffixes=(df1_suffix, df2_suffix)\n",
    "          ).drop(['STATION_PDX', 'STATION_CLATSKANIE'], axis=1)"
   ]
  },
  {
   "cell_type": "markdown",
   "id": "609b6f1b",
   "metadata": {},
   "source": [
    "Maximum Temperature"
   ]
  },
  {
   "cell_type": "code",
   "execution_count": 5,
   "id": "2e73cfc7",
   "metadata": {},
   "outputs": [
    {
     "data": {
      "application/vnd.microsoft.datawrangler.viewer.v0+json": {
       "columns": [
        {
         "name": "index",
         "rawType": "object",
         "type": "string"
        },
        {
         "name": "TMAX_CLATSKANIE",
         "rawType": "float64",
         "type": "float"
        },
        {
         "name": "TMAX_PDX",
         "rawType": "float64",
         "type": "float"
        }
       ],
       "conversionMethod": "pd.DataFrame",
       "ref": "b778568b-19d8-4923-9479-d454e6797e15",
       "rows": [
        [
         "count",
         "30638.0",
         "30728.0"
        ],
        [
         "mean",
         "59.716887525295384",
         "62.78700208279094"
        ],
        [
         "std",
         "12.642278735249997",
         "14.488502885842673"
        ],
        [
         "min",
         "17.0",
         "14.0"
        ],
        [
         "25%",
         "50.0",
         "52.0"
        ],
        [
         "50%",
         "59.0",
         "61.0"
        ],
        [
         "75%",
         "69.0",
         "73.0"
        ],
        [
         "max",
         "103.0",
         "116.0"
        ]
       ],
       "shape": {
        "columns": 2,
        "rows": 8
       }
      },
      "text/html": [
       "<div>\n",
       "<style scoped>\n",
       "    .dataframe tbody tr th:only-of-type {\n",
       "        vertical-align: middle;\n",
       "    }\n",
       "\n",
       "    .dataframe tbody tr th {\n",
       "        vertical-align: top;\n",
       "    }\n",
       "\n",
       "    .dataframe thead th {\n",
       "        text-align: right;\n",
       "    }\n",
       "</style>\n",
       "<table border=\"1\" class=\"dataframe\">\n",
       "  <thead>\n",
       "    <tr style=\"text-align: right;\">\n",
       "      <th></th>\n",
       "      <th>TMAX_CLATSKANIE</th>\n",
       "      <th>TMAX_PDX</th>\n",
       "    </tr>\n",
       "  </thead>\n",
       "  <tbody>\n",
       "    <tr>\n",
       "      <th>count</th>\n",
       "      <td>30638.000000</td>\n",
       "      <td>30728.000000</td>\n",
       "    </tr>\n",
       "    <tr>\n",
       "      <th>mean</th>\n",
       "      <td>59.716888</td>\n",
       "      <td>62.787002</td>\n",
       "    </tr>\n",
       "    <tr>\n",
       "      <th>std</th>\n",
       "      <td>12.642279</td>\n",
       "      <td>14.488503</td>\n",
       "    </tr>\n",
       "    <tr>\n",
       "      <th>min</th>\n",
       "      <td>17.000000</td>\n",
       "      <td>14.000000</td>\n",
       "    </tr>\n",
       "    <tr>\n",
       "      <th>25%</th>\n",
       "      <td>50.000000</td>\n",
       "      <td>52.000000</td>\n",
       "    </tr>\n",
       "    <tr>\n",
       "      <th>50%</th>\n",
       "      <td>59.000000</td>\n",
       "      <td>61.000000</td>\n",
       "    </tr>\n",
       "    <tr>\n",
       "      <th>75%</th>\n",
       "      <td>69.000000</td>\n",
       "      <td>73.000000</td>\n",
       "    </tr>\n",
       "    <tr>\n",
       "      <th>max</th>\n",
       "      <td>103.000000</td>\n",
       "      <td>116.000000</td>\n",
       "    </tr>\n",
       "  </tbody>\n",
       "</table>\n",
       "</div>"
      ],
      "text/plain": [
       "       TMAX_CLATSKANIE      TMAX_PDX\n",
       "count     30638.000000  30728.000000\n",
       "mean         59.716888     62.787002\n",
       "std          12.642279     14.488503\n",
       "min          17.000000     14.000000\n",
       "25%          50.000000     52.000000\n",
       "50%          59.000000     61.000000\n",
       "75%          69.000000     73.000000\n",
       "max         103.000000    116.000000"
      ]
     },
     "execution_count": 5,
     "metadata": {},
     "output_type": "execute_result"
    }
   ],
   "source": [
    "df[['TMAX_CLATSKANIE', 'TMAX_PDX']].describe()"
   ]
  },
  {
   "cell_type": "code",
   "execution_count": 6,
   "id": "5beadfb1",
   "metadata": {},
   "outputs": [
    {
     "data": {
      "application/vnd.microsoft.datawrangler.viewer.v0+json": {
       "columns": [
        {
         "name": "index",
         "rawType": "int64",
         "type": "integer"
        },
        {
         "name": "NAME_CLATSKANIE",
         "rawType": "object",
         "type": "string"
        },
        {
         "name": "DATE",
         "rawType": "object",
         "type": "string"
        },
        {
         "name": "TAVG_CLATSKANIE",
         "rawType": "float64",
         "type": "float"
        },
        {
         "name": "TMAX_CLATSKANIE",
         "rawType": "float64",
         "type": "float"
        },
        {
         "name": "TMIN_CLATSKANIE",
         "rawType": "float64",
         "type": "float"
        },
        {
         "name": "year",
         "rawType": "int32",
         "type": "integer"
        },
        {
         "name": "NAME_PDX",
         "rawType": "object",
         "type": "string"
        },
        {
         "name": "TAVG_PDX",
         "rawType": "float64",
         "type": "float"
        },
        {
         "name": "TMAX_PDX",
         "rawType": "int64",
         "type": "integer"
        },
        {
         "name": "TMIN_PDX",
         "rawType": "int64",
         "type": "integer"
        }
       ],
       "conversionMethod": "pd.DataFrame",
       "ref": "4e37bab6-935f-49bd-af60-8a2cca63f20e",
       "rows": [
        [
         "0",
         "CLATSKANIE, OR US",
         "1940-10-14",
         null,
         "67.0",
         "48.0",
         "1940",
         "PORTLAND INTERNATIONAL AIRPORT, OR US",
         null,
         "70",
         "53"
        ],
        [
         "1",
         "CLATSKANIE, OR US",
         "1940-10-15",
         null,
         "63.0",
         "51.0",
         "1940",
         "PORTLAND INTERNATIONAL AIRPORT, OR US",
         null,
         "64",
         "52"
        ],
        [
         "2",
         "CLATSKANIE, OR US",
         "1940-10-16",
         null,
         "65.0",
         "50.0",
         "1940",
         "PORTLAND INTERNATIONAL AIRPORT, OR US",
         null,
         "72",
         "50"
        ],
        [
         "3",
         "CLATSKANIE, OR US",
         "1940-10-17",
         null,
         "68.0",
         "56.0",
         "1940",
         "PORTLAND INTERNATIONAL AIRPORT, OR US",
         null,
         "72",
         "58"
        ],
        [
         "4",
         "CLATSKANIE, OR US",
         "1940-10-18",
         null,
         "71.0",
         "60.0",
         "1940",
         "PORTLAND INTERNATIONAL AIRPORT, OR US",
         null,
         "78",
         "58"
        ],
        [
         "5",
         "CLATSKANIE, OR US",
         "1940-10-19",
         null,
         "70.0",
         "58.0",
         "1940",
         "PORTLAND INTERNATIONAL AIRPORT, OR US",
         null,
         "78",
         "59"
        ],
        [
         "6",
         "CLATSKANIE, OR US",
         "1940-10-20",
         null,
         "64.0",
         "53.0",
         "1940",
         "PORTLAND INTERNATIONAL AIRPORT, OR US",
         null,
         "64",
         "54"
        ],
        [
         "7",
         "CLATSKANIE, OR US",
         "1940-10-21",
         null,
         "62.0",
         "50.0",
         "1940",
         "PORTLAND INTERNATIONAL AIRPORT, OR US",
         null,
         "63",
         "48"
        ],
        [
         "8",
         "CLATSKANIE, OR US",
         "1940-10-22",
         null,
         "61.0",
         "37.0",
         "1940",
         "PORTLAND INTERNATIONAL AIRPORT, OR US",
         null,
         "61",
         "41"
        ],
        [
         "9",
         "CLATSKANIE, OR US",
         "1940-10-23",
         null,
         "58.0",
         "51.0",
         "1940",
         "PORTLAND INTERNATIONAL AIRPORT, OR US",
         null,
         "58",
         "53"
        ],
        [
         "10",
         "CLATSKANIE, OR US",
         "1940-10-24",
         null,
         "58.0",
         "46.0",
         "1940",
         "PORTLAND INTERNATIONAL AIRPORT, OR US",
         null,
         "57",
         "48"
        ],
        [
         "11",
         "CLATSKANIE, OR US",
         "1940-10-25",
         null,
         "57.0",
         "41.0",
         "1940",
         "PORTLAND INTERNATIONAL AIRPORT, OR US",
         null,
         "57",
         "41"
        ],
        [
         "12",
         "CLATSKANIE, OR US",
         "1940-10-26",
         null,
         "56.0",
         "34.0",
         "1940",
         "PORTLAND INTERNATIONAL AIRPORT, OR US",
         null,
         "57",
         "38"
        ],
        [
         "13",
         "CLATSKANIE, OR US",
         "1940-10-27",
         null,
         "54.0",
         "38.0",
         "1940",
         "PORTLAND INTERNATIONAL AIRPORT, OR US",
         null,
         "56",
         "37"
        ],
        [
         "14",
         "CLATSKANIE, OR US",
         "1940-10-28",
         null,
         "52.0",
         "45.0",
         "1940",
         "PORTLAND INTERNATIONAL AIRPORT, OR US",
         null,
         "53",
         "45"
        ],
        [
         "15",
         "CLATSKANIE, OR US",
         "1940-10-29",
         null,
         "51.0",
         "46.0",
         "1940",
         "PORTLAND INTERNATIONAL AIRPORT, OR US",
         null,
         "59",
         "48"
        ],
        [
         "16",
         "CLATSKANIE, OR US",
         "1940-10-30",
         null,
         "58.0",
         "46.0",
         "1940",
         "PORTLAND INTERNATIONAL AIRPORT, OR US",
         null,
         "59",
         "50"
        ],
        [
         "17",
         "CLATSKANIE, OR US",
         "1940-10-31",
         null,
         "56.0",
         "43.0",
         "1940",
         "PORTLAND INTERNATIONAL AIRPORT, OR US",
         null,
         "52",
         "46"
        ],
        [
         "18",
         "CLATSKANIE, OR US",
         "1940-11-01",
         null,
         "52.0",
         "39.0",
         "1940",
         "PORTLAND INTERNATIONAL AIRPORT, OR US",
         null,
         "52",
         "40"
        ],
        [
         "19",
         "CLATSKANIE, OR US",
         "1940-11-02",
         null,
         "51.0",
         "38.0",
         "1940",
         "PORTLAND INTERNATIONAL AIRPORT, OR US",
         null,
         "53",
         "38"
        ],
        [
         "20",
         "CLATSKANIE, OR US",
         "1940-11-03",
         null,
         "49.0",
         "32.0",
         "1940",
         "PORTLAND INTERNATIONAL AIRPORT, OR US",
         null,
         "47",
         "36"
        ],
        [
         "21",
         "CLATSKANIE, OR US",
         "1940-11-04",
         null,
         "51.0",
         "32.0",
         "1940",
         "PORTLAND INTERNATIONAL AIRPORT, OR US",
         null,
         "55",
         "32"
        ],
        [
         "22",
         "CLATSKANIE, OR US",
         "1940-11-05",
         null,
         "56.0",
         "42.0",
         "1940",
         "PORTLAND INTERNATIONAL AIRPORT, OR US",
         null,
         "51",
         "42"
        ],
        [
         "23",
         "CLATSKANIE, OR US",
         "1940-11-06",
         null,
         "60.0",
         "41.0",
         "1940",
         "PORTLAND INTERNATIONAL AIRPORT, OR US",
         null,
         "58",
         "46"
        ],
        [
         "24",
         "CLATSKANIE, OR US",
         "1940-11-07",
         null,
         "54.0",
         "42.0",
         "1940",
         "PORTLAND INTERNATIONAL AIRPORT, OR US",
         null,
         "56",
         "46"
        ],
        [
         "25",
         "CLATSKANIE, OR US",
         "1940-11-08",
         null,
         "45.0",
         "37.0",
         "1940",
         "PORTLAND INTERNATIONAL AIRPORT, OR US",
         null,
         "50",
         "42"
        ],
        [
         "26",
         "CLATSKANIE, OR US",
         "1940-11-09",
         null,
         "47.0",
         "32.0",
         "1940",
         "PORTLAND INTERNATIONAL AIRPORT, OR US",
         null,
         "48",
         "35"
        ],
        [
         "27",
         "CLATSKANIE, OR US",
         "1940-11-10",
         null,
         "42.0",
         "29.0",
         "1940",
         "PORTLAND INTERNATIONAL AIRPORT, OR US",
         null,
         "47",
         "34"
        ],
        [
         "28",
         "CLATSKANIE, OR US",
         "1940-11-11",
         null,
         "44.0",
         "36.0",
         "1940",
         "PORTLAND INTERNATIONAL AIRPORT, OR US",
         null,
         "46",
         "35"
        ],
        [
         "29",
         "CLATSKANIE, OR US",
         "1940-11-12",
         null,
         "45.0",
         "30.0",
         "1940",
         "PORTLAND INTERNATIONAL AIRPORT, OR US",
         null,
         "45",
         "33"
        ],
        [
         "30",
         "CLATSKANIE, OR US",
         "1940-11-13",
         null,
         "48.0",
         "29.0",
         "1940",
         "PORTLAND INTERNATIONAL AIRPORT, OR US",
         null,
         "45",
         "34"
        ],
        [
         "31",
         "CLATSKANIE, OR US",
         "1940-11-14",
         null,
         "48.0",
         "30.0",
         "1940",
         "PORTLAND INTERNATIONAL AIRPORT, OR US",
         null,
         "47",
         "33"
        ],
        [
         "32",
         "CLATSKANIE, OR US",
         "1940-11-15",
         null,
         "45.0",
         "28.0",
         "1940",
         "PORTLAND INTERNATIONAL AIRPORT, OR US",
         null,
         "53",
         "28"
        ],
        [
         "33",
         "CLATSKANIE, OR US",
         "1940-11-16",
         null,
         "45.0",
         "29.0",
         "1940",
         "PORTLAND INTERNATIONAL AIRPORT, OR US",
         null,
         "49",
         "27"
        ],
        [
         "34",
         "CLATSKANIE, OR US",
         "1940-11-17",
         null,
         "50.0",
         "35.0",
         "1940",
         "PORTLAND INTERNATIONAL AIRPORT, OR US",
         null,
         "46",
         "36"
        ],
        [
         "35",
         "CLATSKANIE, OR US",
         "1940-11-18",
         null,
         "45.0",
         "28.0",
         "1940",
         "PORTLAND INTERNATIONAL AIRPORT, OR US",
         null,
         "49",
         "30"
        ],
        [
         "36",
         "CLATSKANIE, OR US",
         "1940-11-19",
         null,
         "43.0",
         "27.0",
         "1940",
         "PORTLAND INTERNATIONAL AIRPORT, OR US",
         null,
         "46",
         "29"
        ],
        [
         "37",
         "CLATSKANIE, OR US",
         "1940-11-20",
         null,
         "45.0",
         "33.0",
         "1940",
         "PORTLAND INTERNATIONAL AIRPORT, OR US",
         null,
         "49",
         "36"
        ],
        [
         "38",
         "CLATSKANIE, OR US",
         "1940-11-21",
         null,
         "44.0",
         "30.0",
         "1940",
         "PORTLAND INTERNATIONAL AIRPORT, OR US",
         null,
         "50",
         "33"
        ],
        [
         "39",
         "CLATSKANIE, OR US",
         "1940-11-22",
         null,
         "37.0",
         "25.0",
         "1940",
         "PORTLAND INTERNATIONAL AIRPORT, OR US",
         null,
         "44",
         "28"
        ],
        [
         "40",
         "CLATSKANIE, OR US",
         "1940-11-23",
         null,
         "43.0",
         "30.0",
         "1940",
         "PORTLAND INTERNATIONAL AIRPORT, OR US",
         null,
         "42",
         "37"
        ],
        [
         "41",
         "CLATSKANIE, OR US",
         "1940-11-24",
         null,
         "49.0",
         "38.0",
         "1940",
         "PORTLAND INTERNATIONAL AIRPORT, OR US",
         null,
         "44",
         "35"
        ],
        [
         "42",
         "CLATSKANIE, OR US",
         "1940-11-25",
         null,
         "46.0",
         "37.0",
         "1940",
         "PORTLAND INTERNATIONAL AIRPORT, OR US",
         null,
         "51",
         "37"
        ],
        [
         "43",
         "CLATSKANIE, OR US",
         "1940-11-26",
         null,
         "46.0",
         "36.0",
         "1940",
         "PORTLAND INTERNATIONAL AIRPORT, OR US",
         null,
         "44",
         "36"
        ],
        [
         "44",
         "CLATSKANIE, OR US",
         "1940-11-27",
         null,
         "47.0",
         "39.0",
         "1940",
         "PORTLAND INTERNATIONAL AIRPORT, OR US",
         null,
         "45",
         "38"
        ],
        [
         "45",
         "CLATSKANIE, OR US",
         "1940-11-28",
         null,
         "55.0",
         "43.0",
         "1940",
         "PORTLAND INTERNATIONAL AIRPORT, OR US",
         null,
         "59",
         "43"
        ],
        [
         "46",
         "CLATSKANIE, OR US",
         "1940-11-29",
         null,
         "54.0",
         "42.0",
         "1940",
         "PORTLAND INTERNATIONAL AIRPORT, OR US",
         null,
         "57",
         "40"
        ],
        [
         "47",
         "CLATSKANIE, OR US",
         "1940-11-30",
         null,
         "46.0",
         "37.0",
         "1940",
         "PORTLAND INTERNATIONAL AIRPORT, OR US",
         null,
         "45",
         "39"
        ],
        [
         "48",
         "CLATSKANIE, OR US",
         "1940-12-01",
         null,
         "51.0",
         "42.0",
         "1940",
         "PORTLAND INTERNATIONAL AIRPORT, OR US",
         null,
         "51",
         "42"
        ],
        [
         "49",
         "CLATSKANIE, OR US",
         "1940-12-02",
         null,
         "51.0",
         "42.0",
         "1940",
         "PORTLAND INTERNATIONAL AIRPORT, OR US",
         null,
         "53",
         "40"
        ]
       ],
       "shape": {
        "columns": 10,
        "rows": 30728
       }
      },
      "text/html": [
       "<div>\n",
       "<style scoped>\n",
       "    .dataframe tbody tr th:only-of-type {\n",
       "        vertical-align: middle;\n",
       "    }\n",
       "\n",
       "    .dataframe tbody tr th {\n",
       "        vertical-align: top;\n",
       "    }\n",
       "\n",
       "    .dataframe thead th {\n",
       "        text-align: right;\n",
       "    }\n",
       "</style>\n",
       "<table border=\"1\" class=\"dataframe\">\n",
       "  <thead>\n",
       "    <tr style=\"text-align: right;\">\n",
       "      <th></th>\n",
       "      <th>NAME_CLATSKANIE</th>\n",
       "      <th>DATE</th>\n",
       "      <th>TAVG_CLATSKANIE</th>\n",
       "      <th>TMAX_CLATSKANIE</th>\n",
       "      <th>TMIN_CLATSKANIE</th>\n",
       "      <th>year</th>\n",
       "      <th>NAME_PDX</th>\n",
       "      <th>TAVG_PDX</th>\n",
       "      <th>TMAX_PDX</th>\n",
       "      <th>TMIN_PDX</th>\n",
       "    </tr>\n",
       "  </thead>\n",
       "  <tbody>\n",
       "    <tr>\n",
       "      <th>0</th>\n",
       "      <td>CLATSKANIE, OR US</td>\n",
       "      <td>1940-10-14</td>\n",
       "      <td>NaN</td>\n",
       "      <td>67.0</td>\n",
       "      <td>48.0</td>\n",
       "      <td>1940</td>\n",
       "      <td>PORTLAND INTERNATIONAL AIRPORT, OR US</td>\n",
       "      <td>NaN</td>\n",
       "      <td>70</td>\n",
       "      <td>53</td>\n",
       "    </tr>\n",
       "    <tr>\n",
       "      <th>1</th>\n",
       "      <td>CLATSKANIE, OR US</td>\n",
       "      <td>1940-10-15</td>\n",
       "      <td>NaN</td>\n",
       "      <td>63.0</td>\n",
       "      <td>51.0</td>\n",
       "      <td>1940</td>\n",
       "      <td>PORTLAND INTERNATIONAL AIRPORT, OR US</td>\n",
       "      <td>NaN</td>\n",
       "      <td>64</td>\n",
       "      <td>52</td>\n",
       "    </tr>\n",
       "    <tr>\n",
       "      <th>2</th>\n",
       "      <td>CLATSKANIE, OR US</td>\n",
       "      <td>1940-10-16</td>\n",
       "      <td>NaN</td>\n",
       "      <td>65.0</td>\n",
       "      <td>50.0</td>\n",
       "      <td>1940</td>\n",
       "      <td>PORTLAND INTERNATIONAL AIRPORT, OR US</td>\n",
       "      <td>NaN</td>\n",
       "      <td>72</td>\n",
       "      <td>50</td>\n",
       "    </tr>\n",
       "    <tr>\n",
       "      <th>3</th>\n",
       "      <td>CLATSKANIE, OR US</td>\n",
       "      <td>1940-10-17</td>\n",
       "      <td>NaN</td>\n",
       "      <td>68.0</td>\n",
       "      <td>56.0</td>\n",
       "      <td>1940</td>\n",
       "      <td>PORTLAND INTERNATIONAL AIRPORT, OR US</td>\n",
       "      <td>NaN</td>\n",
       "      <td>72</td>\n",
       "      <td>58</td>\n",
       "    </tr>\n",
       "    <tr>\n",
       "      <th>4</th>\n",
       "      <td>CLATSKANIE, OR US</td>\n",
       "      <td>1940-10-18</td>\n",
       "      <td>NaN</td>\n",
       "      <td>71.0</td>\n",
       "      <td>60.0</td>\n",
       "      <td>1940</td>\n",
       "      <td>PORTLAND INTERNATIONAL AIRPORT, OR US</td>\n",
       "      <td>NaN</td>\n",
       "      <td>78</td>\n",
       "      <td>58</td>\n",
       "    </tr>\n",
       "    <tr>\n",
       "      <th>...</th>\n",
       "      <td>...</td>\n",
       "      <td>...</td>\n",
       "      <td>...</td>\n",
       "      <td>...</td>\n",
       "      <td>...</td>\n",
       "      <td>...</td>\n",
       "      <td>...</td>\n",
       "      <td>...</td>\n",
       "      <td>...</td>\n",
       "      <td>...</td>\n",
       "    </tr>\n",
       "    <tr>\n",
       "      <th>30723</th>\n",
       "      <td>CLATSKANIE, OR US</td>\n",
       "      <td>2024-12-27</td>\n",
       "      <td>NaN</td>\n",
       "      <td>54.0</td>\n",
       "      <td>42.0</td>\n",
       "      <td>2024</td>\n",
       "      <td>PORTLAND INTERNATIONAL AIRPORT, OR US</td>\n",
       "      <td>49.0</td>\n",
       "      <td>53</td>\n",
       "      <td>45</td>\n",
       "    </tr>\n",
       "    <tr>\n",
       "      <th>30724</th>\n",
       "      <td>CLATSKANIE, OR US</td>\n",
       "      <td>2024-12-28</td>\n",
       "      <td>NaN</td>\n",
       "      <td>50.0</td>\n",
       "      <td>43.0</td>\n",
       "      <td>2024</td>\n",
       "      <td>PORTLAND INTERNATIONAL AIRPORT, OR US</td>\n",
       "      <td>51.0</td>\n",
       "      <td>55</td>\n",
       "      <td>48</td>\n",
       "    </tr>\n",
       "    <tr>\n",
       "      <th>30725</th>\n",
       "      <td>CLATSKANIE, OR US</td>\n",
       "      <td>2024-12-29</td>\n",
       "      <td>NaN</td>\n",
       "      <td>51.0</td>\n",
       "      <td>43.0</td>\n",
       "      <td>2024</td>\n",
       "      <td>PORTLAND INTERNATIONAL AIRPORT, OR US</td>\n",
       "      <td>49.0</td>\n",
       "      <td>52</td>\n",
       "      <td>43</td>\n",
       "    </tr>\n",
       "    <tr>\n",
       "      <th>30726</th>\n",
       "      <td>CLATSKANIE, OR US</td>\n",
       "      <td>2024-12-30</td>\n",
       "      <td>NaN</td>\n",
       "      <td>49.0</td>\n",
       "      <td>36.0</td>\n",
       "      <td>2024</td>\n",
       "      <td>PORTLAND INTERNATIONAL AIRPORT, OR US</td>\n",
       "      <td>45.0</td>\n",
       "      <td>50</td>\n",
       "      <td>41</td>\n",
       "    </tr>\n",
       "    <tr>\n",
       "      <th>30727</th>\n",
       "      <td>CLATSKANIE, OR US</td>\n",
       "      <td>2024-12-31</td>\n",
       "      <td>NaN</td>\n",
       "      <td>49.0</td>\n",
       "      <td>32.0</td>\n",
       "      <td>2024</td>\n",
       "      <td>PORTLAND INTERNATIONAL AIRPORT, OR US</td>\n",
       "      <td>43.0</td>\n",
       "      <td>45</td>\n",
       "      <td>37</td>\n",
       "    </tr>\n",
       "  </tbody>\n",
       "</table>\n",
       "<p>30728 rows × 10 columns</p>\n",
       "</div>"
      ],
      "text/plain": [
       "         NAME_CLATSKANIE        DATE  TAVG_CLATSKANIE  TMAX_CLATSKANIE  \\\n",
       "0      CLATSKANIE, OR US  1940-10-14              NaN             67.0   \n",
       "1      CLATSKANIE, OR US  1940-10-15              NaN             63.0   \n",
       "2      CLATSKANIE, OR US  1940-10-16              NaN             65.0   \n",
       "3      CLATSKANIE, OR US  1940-10-17              NaN             68.0   \n",
       "4      CLATSKANIE, OR US  1940-10-18              NaN             71.0   \n",
       "...                  ...         ...              ...              ...   \n",
       "30723  CLATSKANIE, OR US  2024-12-27              NaN             54.0   \n",
       "30724  CLATSKANIE, OR US  2024-12-28              NaN             50.0   \n",
       "30725  CLATSKANIE, OR US  2024-12-29              NaN             51.0   \n",
       "30726  CLATSKANIE, OR US  2024-12-30              NaN             49.0   \n",
       "30727  CLATSKANIE, OR US  2024-12-31              NaN             49.0   \n",
       "\n",
       "       TMIN_CLATSKANIE  year                               NAME_PDX  TAVG_PDX  \\\n",
       "0                 48.0  1940  PORTLAND INTERNATIONAL AIRPORT, OR US       NaN   \n",
       "1                 51.0  1940  PORTLAND INTERNATIONAL AIRPORT, OR US       NaN   \n",
       "2                 50.0  1940  PORTLAND INTERNATIONAL AIRPORT, OR US       NaN   \n",
       "3                 56.0  1940  PORTLAND INTERNATIONAL AIRPORT, OR US       NaN   \n",
       "4                 60.0  1940  PORTLAND INTERNATIONAL AIRPORT, OR US       NaN   \n",
       "...                ...   ...                                    ...       ...   \n",
       "30723             42.0  2024  PORTLAND INTERNATIONAL AIRPORT, OR US      49.0   \n",
       "30724             43.0  2024  PORTLAND INTERNATIONAL AIRPORT, OR US      51.0   \n",
       "30725             43.0  2024  PORTLAND INTERNATIONAL AIRPORT, OR US      49.0   \n",
       "30726             36.0  2024  PORTLAND INTERNATIONAL AIRPORT, OR US      45.0   \n",
       "30727             32.0  2024  PORTLAND INTERNATIONAL AIRPORT, OR US      43.0   \n",
       "\n",
       "       TMAX_PDX  TMIN_PDX  \n",
       "0            70        53  \n",
       "1            64        52  \n",
       "2            72        50  \n",
       "3            72        58  \n",
       "4            78        58  \n",
       "...         ...       ...  \n",
       "30723        53        45  \n",
       "30724        55        48  \n",
       "30725        52        43  \n",
       "30726        50        41  \n",
       "30727        45        37  \n",
       "\n",
       "[30728 rows x 10 columns]"
      ]
     },
     "execution_count": 6,
     "metadata": {},
     "output_type": "execute_result"
    }
   ],
   "source": [
    "df"
   ]
  },
  {
   "cell_type": "code",
   "execution_count": 7,
   "id": "1d94f8ca",
   "metadata": {},
   "outputs": [
    {
     "data": {
      "application/vnd.microsoft.datawrangler.viewer.v0+json": {
       "columns": [
        {
         "name": "index",
         "rawType": "int64",
         "type": "integer"
        },
        {
         "name": "DATE",
         "rawType": "datetime64[ns]",
         "type": "datetime"
        },
        {
         "name": "variable",
         "rawType": "object",
         "type": "string"
        },
        {
         "name": "value",
         "rawType": "float64",
         "type": "float"
        }
       ],
       "conversionMethod": "pd.DataFrame",
       "ref": "c05dabd1-4c52-459d-a5de-29cd5ab921ea",
       "rows": [
        [
         "0",
         "2024-01-01 00:00:00",
         "TMAX_CLATSKANIE",
         "47.0"
        ],
        [
         "1",
         "2024-01-02 00:00:00",
         "TMAX_CLATSKANIE",
         "48.0"
        ],
        [
         "2",
         "2024-01-03 00:00:00",
         "TMAX_CLATSKANIE",
         "44.0"
        ],
        [
         "3",
         "2024-01-04 00:00:00",
         "TMAX_CLATSKANIE",
         "48.0"
        ],
        [
         "4",
         "2024-01-05 00:00:00",
         "TMAX_CLATSKANIE",
         "48.0"
        ],
        [
         "5",
         "2024-01-06 00:00:00",
         "TMAX_CLATSKANIE",
         "46.0"
        ],
        [
         "6",
         "2024-01-07 00:00:00",
         "TMAX_CLATSKANIE",
         "47.0"
        ],
        [
         "7",
         "2024-01-08 00:00:00",
         "TMAX_CLATSKANIE",
         "48.0"
        ],
        [
         "8",
         "2024-01-09 00:00:00",
         "TMAX_CLATSKANIE",
         "48.0"
        ],
        [
         "9",
         "2024-01-10 00:00:00",
         "TMAX_CLATSKANIE",
         "46.0"
        ],
        [
         "10",
         "2024-01-11 00:00:00",
         "TMAX_CLATSKANIE",
         "46.0"
        ],
        [
         "11",
         "2024-01-12 00:00:00",
         "TMAX_CLATSKANIE",
         "40.0"
        ],
        [
         "12",
         "2024-01-13 00:00:00",
         "TMAX_CLATSKANIE",
         "28.0"
        ],
        [
         "13",
         "2024-01-14 00:00:00",
         "TMAX_CLATSKANIE",
         "28.0"
        ],
        [
         "14",
         "2024-01-15 00:00:00",
         "TMAX_CLATSKANIE",
         "27.0"
        ],
        [
         "15",
         "2024-01-16 00:00:00",
         "TMAX_CLATSKANIE",
         "33.0"
        ],
        [
         "16",
         "2024-01-17 00:00:00",
         "TMAX_CLATSKANIE",
         "32.0"
        ],
        [
         "17",
         "2024-01-18 00:00:00",
         "TMAX_CLATSKANIE",
         "41.0"
        ],
        [
         "18",
         "2024-01-19 00:00:00",
         "TMAX_CLATSKANIE",
         "39.0"
        ],
        [
         "19",
         "2024-01-20 00:00:00",
         "TMAX_CLATSKANIE",
         "46.0"
        ],
        [
         "20",
         "2024-01-21 00:00:00",
         "TMAX_CLATSKANIE",
         "49.0"
        ],
        [
         "21",
         "2024-01-22 00:00:00",
         "TMAX_CLATSKANIE",
         "48.0"
        ],
        [
         "22",
         "2024-01-23 00:00:00",
         "TMAX_CLATSKANIE",
         "52.0"
        ],
        [
         "23",
         "2024-01-24 00:00:00",
         "TMAX_CLATSKANIE",
         "54.0"
        ],
        [
         "24",
         "2024-01-25 00:00:00",
         "TMAX_CLATSKANIE",
         "55.0"
        ],
        [
         "25",
         "2024-01-26 00:00:00",
         "TMAX_CLATSKANIE",
         "53.0"
        ],
        [
         "26",
         "2024-01-27 00:00:00",
         "TMAX_CLATSKANIE",
         "52.0"
        ],
        [
         "27",
         "2024-01-28 00:00:00",
         "TMAX_CLATSKANIE",
         "57.0"
        ],
        [
         "28",
         "2024-01-29 00:00:00",
         "TMAX_CLATSKANIE",
         "60.0"
        ],
        [
         "29",
         "2024-01-30 00:00:00",
         "TMAX_CLATSKANIE",
         "55.0"
        ],
        [
         "30",
         "2024-01-31 00:00:00",
         "TMAX_CLATSKANIE",
         "57.0"
        ],
        [
         "31",
         "2024-02-01 00:00:00",
         "TMAX_CLATSKANIE",
         "57.0"
        ],
        [
         "32",
         "2024-02-02 00:00:00",
         "TMAX_CLATSKANIE",
         "60.0"
        ],
        [
         "33",
         "2024-02-03 00:00:00",
         "TMAX_CLATSKANIE",
         "60.0"
        ],
        [
         "34",
         "2024-02-04 00:00:00",
         "TMAX_CLATSKANIE",
         "53.0"
        ],
        [
         "35",
         "2024-02-05 00:00:00",
         "TMAX_CLATSKANIE",
         "53.0"
        ],
        [
         "36",
         "2024-02-06 00:00:00",
         "TMAX_CLATSKANIE",
         "45.0"
        ],
        [
         "37",
         "2024-02-07 00:00:00",
         "TMAX_CLATSKANIE",
         "51.0"
        ],
        [
         "38",
         "2024-02-08 00:00:00",
         "TMAX_CLATSKANIE",
         "51.0"
        ],
        [
         "39",
         "2024-02-09 00:00:00",
         "TMAX_CLATSKANIE",
         "48.0"
        ],
        [
         "40",
         "2024-02-10 00:00:00",
         "TMAX_CLATSKANIE",
         "48.0"
        ],
        [
         "41",
         "2024-02-11 00:00:00",
         "TMAX_CLATSKANIE",
         "49.0"
        ],
        [
         "42",
         "2024-02-12 00:00:00",
         "TMAX_CLATSKANIE",
         "54.0"
        ],
        [
         "43",
         "2024-02-13 00:00:00",
         "TMAX_CLATSKANIE",
         "49.0"
        ],
        [
         "44",
         "2024-02-14 00:00:00",
         "TMAX_CLATSKANIE",
         "51.0"
        ],
        [
         "45",
         "2024-02-15 00:00:00",
         "TMAX_CLATSKANIE",
         "43.0"
        ],
        [
         "46",
         "2024-02-16 00:00:00",
         "TMAX_CLATSKANIE",
         "46.0"
        ],
        [
         "47",
         "2024-02-17 00:00:00",
         "TMAX_CLATSKANIE",
         "46.0"
        ],
        [
         "48",
         "2024-02-18 00:00:00",
         "TMAX_CLATSKANIE",
         "45.0"
        ],
        [
         "49",
         "2024-02-19 00:00:00",
         "TMAX_CLATSKANIE",
         "48.0"
        ]
       ],
       "shape": {
        "columns": 3,
        "rows": 732
       }
      },
      "text/html": [
       "<div>\n",
       "<style scoped>\n",
       "    .dataframe tbody tr th:only-of-type {\n",
       "        vertical-align: middle;\n",
       "    }\n",
       "\n",
       "    .dataframe tbody tr th {\n",
       "        vertical-align: top;\n",
       "    }\n",
       "\n",
       "    .dataframe thead th {\n",
       "        text-align: right;\n",
       "    }\n",
       "</style>\n",
       "<table border=\"1\" class=\"dataframe\">\n",
       "  <thead>\n",
       "    <tr style=\"text-align: right;\">\n",
       "      <th></th>\n",
       "      <th>DATE</th>\n",
       "      <th>variable</th>\n",
       "      <th>value</th>\n",
       "    </tr>\n",
       "  </thead>\n",
       "  <tbody>\n",
       "    <tr>\n",
       "      <th>0</th>\n",
       "      <td>2024-01-01</td>\n",
       "      <td>TMAX_CLATSKANIE</td>\n",
       "      <td>47.0</td>\n",
       "    </tr>\n",
       "    <tr>\n",
       "      <th>1</th>\n",
       "      <td>2024-01-02</td>\n",
       "      <td>TMAX_CLATSKANIE</td>\n",
       "      <td>48.0</td>\n",
       "    </tr>\n",
       "    <tr>\n",
       "      <th>2</th>\n",
       "      <td>2024-01-03</td>\n",
       "      <td>TMAX_CLATSKANIE</td>\n",
       "      <td>44.0</td>\n",
       "    </tr>\n",
       "    <tr>\n",
       "      <th>3</th>\n",
       "      <td>2024-01-04</td>\n",
       "      <td>TMAX_CLATSKANIE</td>\n",
       "      <td>48.0</td>\n",
       "    </tr>\n",
       "    <tr>\n",
       "      <th>4</th>\n",
       "      <td>2024-01-05</td>\n",
       "      <td>TMAX_CLATSKANIE</td>\n",
       "      <td>48.0</td>\n",
       "    </tr>\n",
       "    <tr>\n",
       "      <th>...</th>\n",
       "      <td>...</td>\n",
       "      <td>...</td>\n",
       "      <td>...</td>\n",
       "    </tr>\n",
       "    <tr>\n",
       "      <th>727</th>\n",
       "      <td>2024-12-27</td>\n",
       "      <td>TMAX_PDX</td>\n",
       "      <td>53.0</td>\n",
       "    </tr>\n",
       "    <tr>\n",
       "      <th>728</th>\n",
       "      <td>2024-12-28</td>\n",
       "      <td>TMAX_PDX</td>\n",
       "      <td>55.0</td>\n",
       "    </tr>\n",
       "    <tr>\n",
       "      <th>729</th>\n",
       "      <td>2024-12-29</td>\n",
       "      <td>TMAX_PDX</td>\n",
       "      <td>52.0</td>\n",
       "    </tr>\n",
       "    <tr>\n",
       "      <th>730</th>\n",
       "      <td>2024-12-30</td>\n",
       "      <td>TMAX_PDX</td>\n",
       "      <td>50.0</td>\n",
       "    </tr>\n",
       "    <tr>\n",
       "      <th>731</th>\n",
       "      <td>2024-12-31</td>\n",
       "      <td>TMAX_PDX</td>\n",
       "      <td>45.0</td>\n",
       "    </tr>\n",
       "  </tbody>\n",
       "</table>\n",
       "<p>732 rows × 3 columns</p>\n",
       "</div>"
      ],
      "text/plain": [
       "          DATE         variable  value\n",
       "0   2024-01-01  TMAX_CLATSKANIE   47.0\n",
       "1   2024-01-02  TMAX_CLATSKANIE   48.0\n",
       "2   2024-01-03  TMAX_CLATSKANIE   44.0\n",
       "3   2024-01-04  TMAX_CLATSKANIE   48.0\n",
       "4   2024-01-05  TMAX_CLATSKANIE   48.0\n",
       "..         ...              ...    ...\n",
       "727 2024-12-27         TMAX_PDX   53.0\n",
       "728 2024-12-28         TMAX_PDX   55.0\n",
       "729 2024-12-29         TMAX_PDX   52.0\n",
       "730 2024-12-30         TMAX_PDX   50.0\n",
       "731 2024-12-31         TMAX_PDX   45.0\n",
       "\n",
       "[732 rows x 3 columns]"
      ]
     },
     "execution_count": 7,
     "metadata": {},
     "output_type": "execute_result"
    }
   ],
   "source": [
    "# Stack the TMAX of the locations; make the wide data long\n",
    "x = pd.melt(df[df['year']==2024],\n",
    "            id_vars='DATE',\n",
    "            value_vars=['TMAX_CLATSKANIE', 'TMAX_PDX'])\n",
    "x['DATE'] = pd.to_datetime(x['DATE'])\n",
    "x"
   ]
  },
  {
   "cell_type": "code",
   "execution_count": 10,
   "id": "34ae8484",
   "metadata": {},
   "outputs": [
    {
     "data": {
      "image/png": "[encoded data removed]",
      "text/plain": [
       "<Figure size 3000x1000 with 1 Axes>"
      ]
     },
     "metadata": {},
     "output_type": "display_data"
    }
   ],
   "source": [
    "p = sns.set(rc = {'figure.figsize':(30, 10)}) # longer but not taller (x, y)\n",
    "p = sns.lineplot(x,\n",
    "             x='DATE',\n",
    "             y='value',\n",
    "             hue='variable')\n",
    "\n",
    "ticks = plt.xticks(rotation=90)\n",
    "plt.gca().xaxis.set_major_formatter(mdates.DateFormatter('%Y-%m'))"
   ]
  },
  {
   "cell_type": "markdown",
   "id": "9598df84",
   "metadata": {},
   "source": [
    "Minimum Temperature"
   ]
  },
  {
   "cell_type": "code",
   "execution_count": 9,
   "id": "83e4c971",
   "metadata": {},
   "outputs": [
    {
     "data": {
      "application/vnd.microsoft.datawrangler.viewer.v0+json": {
       "columns": [
        {
         "name": "index",
         "rawType": "object",
         "type": "string"
        },
        {
         "name": "TMIN_CLATSKANIE",
         "rawType": "float64",
         "type": "float"
        },
        {
         "name": "TMIN_PDX",
         "rawType": "float64",
         "type": "float"
        }
       ],
       "conversionMethod": "pd.DataFrame",
       "ref": "b935fd85-a407-474a-bd03-57915bc4778a",
       "rows": [
        [
         "count",
         "30636.0",
         "30728.0"
        ],
        [
         "mean",
         "42.24947773860817",
         "45.1508070814892"
        ],
        [
         "std",
         "9.14752643134221",
         "9.87395612711382"
        ],
        [
         "min",
         "1.0",
         "-3.0"
        ],
        [
         "25%",
         "35.0",
         "38.0"
        ],
        [
         "50%",
         "42.0",
         "45.0"
        ],
        [
         "75%",
         "50.0",
         "53.0"
        ],
        [
         "max",
         "66.0",
         "75.0"
        ]
       ],
       "shape": {
        "columns": 2,
        "rows": 8
       }
      },
      "text/html": [
       "<div>\n",
       "<style scoped>\n",
       "    .dataframe tbody tr th:only-of-type {\n",
       "        vertical-align: middle;\n",
       "    }\n",
       "\n",
       "    .dataframe tbody tr th {\n",
       "        vertical-align: top;\n",
       "    }\n",
       "\n",
       "    .dataframe thead th {\n",
       "        text-align: right;\n",
       "    }\n",
       "</style>\n",
       "<table border=\"1\" class=\"dataframe\">\n",
       "  <thead>\n",
       "    <tr style=\"text-align: right;\">\n",
       "      <th></th>\n",
       "      <th>TMIN_CLATSKANIE</th>\n",
       "      <th>TMIN_PDX</th>\n",
       "    </tr>\n",
       "  </thead>\n",
       "  <tbody>\n",
       "    <tr>\n",
       "      <th>count</th>\n",
       "      <td>30636.000000</td>\n",
       "      <td>30728.000000</td>\n",
       "    </tr>\n",
       "    <tr>\n",
       "      <th>mean</th>\n",
       "      <td>42.249478</td>\n",
       "      <td>45.150807</td>\n",
       "    </tr>\n",
       "    <tr>\n",
       "      <th>std</th>\n",
       "      <td>9.147526</td>\n",
       "      <td>9.873956</td>\n",
       "    </tr>\n",
       "    <tr>\n",
       "      <th>min</th>\n",
       "      <td>1.000000</td>\n",
       "      <td>-3.000000</td>\n",
       "    </tr>\n",
       "    <tr>\n",
       "      <th>25%</th>\n",
       "      <td>35.000000</td>\n",
       "      <td>38.000000</td>\n",
       "    </tr>\n",
       "    <tr>\n",
       "      <th>50%</th>\n",
       "      <td>42.000000</td>\n",
       "      <td>45.000000</td>\n",
       "    </tr>\n",
       "    <tr>\n",
       "      <th>75%</th>\n",
       "      <td>50.000000</td>\n",
       "      <td>53.000000</td>\n",
       "    </tr>\n",
       "    <tr>\n",
       "      <th>max</th>\n",
       "      <td>66.000000</td>\n",
       "      <td>75.000000</td>\n",
       "    </tr>\n",
       "  </tbody>\n",
       "</table>\n",
       "</div>"
      ],
      "text/plain": [
       "       TMIN_CLATSKANIE      TMIN_PDX\n",
       "count     30636.000000  30728.000000\n",
       "mean         42.249478     45.150807\n",
       "std           9.147526      9.873956\n",
       "min           1.000000     -3.000000\n",
       "25%          35.000000     38.000000\n",
       "50%          42.000000     45.000000\n",
       "75%          50.000000     53.000000\n",
       "max          66.000000     75.000000"
      ]
     },
     "execution_count": 9,
     "metadata": {},
     "output_type": "execute_result"
    }
   ],
   "source": [
    "df[['TMIN_CLATSKANIE', 'TMIN_PDX']].describe()"
   ]
  },
  {
   "cell_type": "code",
   "execution_count": null,
   "id": "bca28789",
   "metadata": {},
   "outputs": [],
   "source": []
  }
 ],
 "metadata": {
  "kernelspec": {
   "display_name": "weather-python-DmzbIOXk-py3.13",
   "language": "python",
   "name": "python3"
  },
  "language_info": {
   "codemirror_mode": {
    "name": "ipython",
    "version": 3
   },
   "file_extension": ".py",
   "mimetype": "text/x-python",
   "name": "python",
   "nbconvert_exporter": "python",
   "pygments_lexer": "ipython3",
   "version": "3.13.1"
  }
 },
 "nbformat": 4,
 "nbformat_minor": 5
}
